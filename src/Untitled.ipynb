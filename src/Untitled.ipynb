{
 "cells": [
  {
   "cell_type": "code",
   "execution_count": 54,
   "id": "b6de3dd7",
   "metadata": {},
   "outputs": [],
   "source": [
    "from config.defaults import cfg\n",
    "import os\n",
    "import json\n",
    "import matplotlib.pyplot as plt\n",
    "import random"
   ]
  },
  {
   "cell_type": "code",
   "execution_count": 8,
   "id": "8c1ef1dc",
   "metadata": {},
   "outputs": [
    {
     "data": {
      "text/plain": [
       "['ins_seg_train.json', 'ins_seg_val.json']"
      ]
     },
     "execution_count": 8,
     "metadata": {},
     "output_type": "execute_result"
    }
   ],
   "source": [
    "os.listdir('../dataset/bdd100k/labels/ins_seg/polygons/ins_seg_train.json')"
   ]
  },
  {
   "cell_type": "code",
   "execution_count": null,
   "id": "19b64682",
   "metadata": {},
   "outputs": [],
   "source": [
    "images_path = \n"
   ]
  },
  {
   "cell_type": "code",
   "execution_count": 9,
   "id": "58cf9855",
   "metadata": {},
   "outputs": [],
   "source": [
    "polygon_root = '../dataset/bdd100k/labels/ins_seg/polygons/ins_seg_train.json'"
   ]
  },
  {
   "cell_type": "code",
   "execution_count": 12,
   "id": "6038b222",
   "metadata": {},
   "outputs": [],
   "source": [
    "with open(polygon_root, 'r') as f:\n",
    "    polygon_annotation = json.load(f)"
   ]
  },
  {
   "cell_type": "code",
   "execution_count": 24,
   "id": "7d39094b",
   "metadata": {},
   "outputs": [],
   "source": [
    "objects = set()\n",
    "objects_numbers = []"
   ]
  },
  {
   "cell_type": "code",
   "execution_count": 25,
   "id": "f0d4f112",
   "metadata": {},
   "outputs": [],
   "source": [
    "for polygon in polygon_annotation:\n",
    "    for ann in polygon['labels']:\n",
    "        objects.add(ann['category'])\n",
    "        objects_numbers.append(ann['category'])"
   ]
  },
  {
   "cell_type": "code",
   "execution_count": 29,
   "id": "aa4323e7",
   "metadata": {},
   "outputs": [
    {
     "name": "stdout",
     "output_type": "stream",
     "text": [
      "car: 71875\n",
      "trailer: 108\n",
      "train: 65\n",
      "bicycle: 830\n",
      "caravan: 359\n",
      "truck: 3745\n",
      "bus: 1638\n",
      "rider: 471\n",
      "motorcycle: 396\n",
      "person: 9963\n"
     ]
    }
   ],
   "source": [
    "x = []\n",
    "y = []\n",
    "for obj in objects:\n",
    "    print(f\"{obj}: {objects_numbers.count(obj)}\")\n",
    "    x.append(obj)\n",
    "    y.append(objects_numbers.count(obj))"
   ]
  },
  {
   "cell_type": "code",
   "execution_count": 32,
   "id": "633b1f3a",
   "metadata": {},
   "outputs": [
    {
     "data": {
      "image/png": "[encoded data removed]",
      "text/plain": [
       "<Figure size 432x288 with 1 Axes>"
      ]
     },
     "metadata": {
      "needs_background": "light"
     },
     "output_type": "display_data"
    }
   ],
   "source": [
    "plt.bar(x, y)\n",
    "plt.xticks(rotation=90)\n",
    "plt.show()"
   ]
  },
  {
   "cell_type": "code",
   "execution_count": 46,
   "id": "29207781",
   "metadata": {},
   "outputs": [
    {
     "data": {
      "text/plain": [
       "['train', 'val']"
      ]
     },
     "execution_count": 46,
     "metadata": {},
     "output_type": "execute_result"
    }
   ],
   "source": [
    "os.listdir('../dataset/bdd100k/labels/drivable/colormaps/train')"
   ]
  },
  {
   "cell_type": "code",
   "execution_count": 49,
   "id": "e22872b0",
   "metadata": {},
   "outputs": [],
   "source": [
    "def intersection(lst1, lst2):\n",
    "    return list(set(lst1) & set(lst2))"
   ]
  },
  {
   "cell_type": "code",
   "execution_count": 47,
   "id": "729db870",
   "metadata": {},
   "outputs": [],
   "source": [
    "all_images = os.listdir('../dataset/bdd100k/labels/drivable/colormaps/train')\n",
    "instance_images = os.listdir('../dataset/bdd100k/images/10k/bdd100k/images/10k/train')"
   ]
  },
  {
   "cell_type": "code",
   "execution_count": 51,
   "id": "2ef72638",
   "metadata": {},
   "outputs": [
    {
     "data": {
      "text/plain": [
       "'0000f77c-6257be58.png'"
      ]
     },
     "execution_count": 51,
     "metadata": {},
     "output_type": "execute_result"
    }
   ],
   "source": [
    "all_images[0]"
   ]
  },
  {
   "cell_type": "code",
   "execution_count": 52,
   "id": "e7dcf1cd",
   "metadata": {},
   "outputs": [
    {
     "data": {
      "text/plain": [
       "'0004a4c0-d4dff0ad.jpg'"
      ]
     },
     "execution_count": 52,
     "metadata": {},
     "output_type": "execute_result"
    }
   ],
   "source": [
    "instance_images[0]"
   ]
  },
  {
   "cell_type": "code",
   "execution_count": 48,
   "id": "b0cad16c",
   "metadata": {},
   "outputs": [
    {
     "name": "stdout",
     "output_type": "stream",
     "text": [
      "70000 7000\n"
     ]
    }
   ],
   "source": [
    "print(len(all_images), len(instance_images))"
   ]
  },
  {
   "cell_type": "code",
   "execution_count": 53,
   "id": "63309d68",
   "metadata": {},
   "outputs": [
    {
     "name": "stdout",
     "output_type": "stream",
     "text": [
      "2976\n"
     ]
    }
   ],
   "source": [
    "inter = intersection(all_images, [image.replace('.jpg', '.png') for image in instance_images])\n",
    "print(len(inter))"
   ]
  },
  {
   "cell_type": "code",
   "execution_count": 55,
   "id": "de679e76",
   "metadata": {},
   "outputs": [
    {
     "data": {
      "text/plain": [
       "'896a625b-1177730f.png'"
      ]
     },
     "execution_count": 55,
     "metadata": {},
     "output_type": "execute_result"
    }
   ],
   "source": [
    "inter[0]"
   ]
  },
  {
   "cell_type": "code",
   "execution_count": 57,
   "id": "4383683d",
   "metadata": {},
   "outputs": [
    {
     "data": {
      "text/plain": [
       "'6b73ccdd-00000000.jpg'"
      ]
     },
     "execution_count": 57,
     "metadata": {},
     "output_type": "execute_result"
    }
   ],
   "source": [
    "polygon_annotation[0]['name']"
   ]
  },
  {
   "cell_type": "code",
   "execution_count": 61,
   "id": "0b8fc759",
   "metadata": {},
   "outputs": [],
   "source": [
    "count_objs = []\n",
    "for polygon in polygon_annotation:\n",
    "    if polygon['name'].replace('.jpg', '.png') in inter:\n",
    "        for ann in polygon['labels']:\n",
    "            count_objs.append(ann['category'])"
   ]
  },
  {
   "cell_type": "code",
   "execution_count": 65,
   "id": "494cb564",
   "metadata": {},
   "outputs": [
    {
     "name": "stdout",
     "output_type": "stream",
     "text": [
      "car: 32096\n",
      "trailer: 71\n",
      "train: 36\n",
      "bicycle: 544\n",
      "caravan: 222\n",
      "truck: 1420\n",
      "bus: 877\n",
      "rider: 294\n",
      "motorcycle: 247\n",
      "person: 4668\n"
     ]
    }
   ],
   "source": [
    "x = []\n",
    "y = []\n",
    "for obj in objects:\n",
    "    print(f\"{obj}: {count_objs.count(obj)}\")\n",
    "    x.append(obj)\n",
    "    y.append(count_objs.count(obj))\n",
    "\n",
    "x = ['car', 'person']\n",
    "y = [count_objs.count('car'), count_objs.count('person')]"
   ]
  },
  {
   "cell_type": "code",
   "execution_count": 66,
   "id": "15ee31fe",
   "metadata": {},
   "outputs": [
    {
     "data": {
      "image/png": "[encoded data removed]",
      "text/plain": [
       "<Figure size 432x288 with 1 Axes>"
      ]
     },
     "metadata": {
      "needs_background": "light"
     },
     "output_type": "display_data"
    }
   ],
   "source": [
    "plt.bar(x, y)\n",
    "plt.xticks(rotation=90)\n",
    "plt.show()"
   ]
  }
 ],
 "metadata": {
  "kernelspec": {
   "display_name": "Python [conda env:yoloc] *",
   "language": "python",
   "name": "conda-env-yoloc-py"
  },
  "language_info": {
   "codemirror_mode": {
    "name": "ipython",
    "version": 3
   },
   "file_extension": ".py",
   "mimetype": "text/x-python",
   "name": "python",
   "nbconvert_exporter": "python",
   "pygments_lexer": "ipython3",
   "version": "3.10.4"
  }
 },
 "nbformat": 4,
 "nbformat_minor": 5
}
