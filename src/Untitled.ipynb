{
 "cells": [
  {
   "cell_type": "code",
   "execution_count": 13,
   "id": "6ede00a3",
   "metadata": {},
   "outputs": [],
   "source": [
    "from pathlib import Path\n",
    "from PIL import Image\n",
    "import os\n",
    "import json\n",
    "from collections import deque"
   ]
  },
  {
   "cell_type": "code",
   "execution_count": 2,
   "id": "b4738a24",
   "metadata": {},
   "outputs": [],
   "source": [
    "root_path = Path('../dataset')\n",
    "image_path = Path('bdd100k/images/bdd100k/images/100k/train')"
   ]
  },
  {
   "cell_type": "code",
   "execution_count": 3,
   "id": "bb9978e6",
   "metadata": {},
   "outputs": [
    {
     "name": "stdout",
     "output_type": "stream",
     "text": [
      "We have 70000 training images.\n",
      "We have 10000 validation images.\n",
      "We have 20000 testing images.\n"
     ]
    }
   ],
   "source": [
    "train_images = os.listdir('../dataset/bdd100k/images/bdd100k/images/100k/train')\n",
    "print(f\"We have {len(train_images)} training images.\")\n",
    "\n",
    "val_images = os.listdir('../dataset/bdd100k/images/bdd100k/images/100k/val')\n",
    "print(f\"We have {len(val_images)} validation images.\")\n",
    "\n",
    "test_images = os.listdir('../dataset/bdd100k/images/bdd100k/images/100k/test')\n",
    "print(f\"We have {len(test_images)} testing images.\")"
   ]
  },
  {
   "cell_type": "code",
   "execution_count": 4,
   "id": "cc09957b",
   "metadata": {},
   "outputs": [
    {
     "data": {
      "text/plain": [
       "'0000f77c-6257be58.jpg'"
      ]
     },
     "execution_count": 4,
     "metadata": {},
     "output_type": "execute_result"
    }
   ],
   "source": [
    "train_images[0]"
   ]
  },
  {
   "cell_type": "code",
   "execution_count": 5,
   "id": "f6fd54e6",
   "metadata": {},
   "outputs": [],
   "source": [
    "det_20_annotation = '../dataset/bdd100k/labels/bdd100k_det_20_labels_trainval/bdd100k/labels/det_20'"
   ]
  },
  {
   "cell_type": "code",
   "execution_count": 6,
   "id": "846c662d",
   "metadata": {},
   "outputs": [
    {
     "data": {
      "text/plain": [
       "['det_train.json', 'det_val.json']"
      ]
     },
     "execution_count": 6,
     "metadata": {},
     "output_type": "execute_result"
    }
   ],
   "source": [
    "os.listdir(det_20_annotation)"
   ]
  },
  {
   "cell_type": "code",
   "execution_count": 7,
   "id": "55f6998e",
   "metadata": {},
   "outputs": [],
   "source": [
    "with open(det_20_annotation+'/det_train.json', 'r') as f:\n",
    "    det_20_annotation_file = json.load(f)"
   ]
  },
  {
   "cell_type": "code",
   "execution_count": 8,
   "id": "92838224",
   "metadata": {},
   "outputs": [
    {
     "data": {
      "text/plain": [
       "69863"
      ]
     },
     "execution_count": 8,
     "metadata": {},
     "output_type": "execute_result"
    }
   ],
   "source": [
    "len(det_20_annotation_file)"
   ]
  },
  {
   "cell_type": "code",
   "execution_count": 9,
   "id": "f8c79ab5",
   "metadata": {},
   "outputs": [],
   "source": [
    "drivable_annotation = '../dataset/bdd100k/labels/bdd100k_drivable_labels_trainval/bdd100k/labels'"
   ]
  },
  {
   "cell_type": "code",
   "execution_count": 14,
   "id": "1c480e3a",
   "metadata": {},
   "outputs": [],
   "source": [
    "annotations = deque(det_20_annotation_file)"
   ]
  },
  {
   "cell_type": "code",
   "execution_count": 19,
   "id": "fdf4f3f2",
   "metadata": {},
   "outputs": [
    {
     "name": "stdout",
     "output_type": "stream",
     "text": [
      "CPU times: total: 0 ns\n",
      "Wall time: 0 ns\n"
     ]
    },
    {
     "data": {
      "text/plain": [
       "{'name': '0035afff-47378fa3.jpg',\n",
       " 'attributes': {'weather': 'clear',\n",
       "  'timeofday': 'night',\n",
       "  'scene': 'residential'},\n",
       " 'timestamp': 10000,\n",
       " 'labels': [{'id': '1547',\n",
       "   'attributes': {'occluded': False,\n",
       "    'truncated': False,\n",
       "    'trafficLightColor': 'NA'},\n",
       "   'category': 'traffic sign',\n",
       "   'box2d': {'x1': 302.006307,\n",
       "    'y1': 227.772354,\n",
       "    'x2': 349.608173,\n",
       "    'y2': 264.625409}},\n",
       "  {'id': '1548',\n",
       "   'attributes': {'occluded': False,\n",
       "    'truncated': False,\n",
       "    'trafficLightColor': 'NA'},\n",
       "   'category': 'traffic sign',\n",
       "   'box2d': {'x1': 315.826204,\n",
       "    'y1': 269.232041,\n",
       "    'x2': 334.252733,\n",
       "    'y2': 301.478465}},\n",
       "  {'id': '1549',\n",
       "   'attributes': {'occluded': False,\n",
       "    'truncated': False,\n",
       "    'trafficLightColor': 'G'},\n",
       "   'category': 'traffic light',\n",
       "   'box2d': {'x1': 632.148269,\n",
       "    'y1': 330.653801,\n",
       "    'x2': 641.361533,\n",
       "    'y2': 347.544784}},\n",
       "  {'id': '1550',\n",
       "   'attributes': {'occluded': False,\n",
       "    'truncated': False,\n",
       "    'trafficLightColor': 'G'},\n",
       "   'category': 'traffic light',\n",
       "   'box2d': {'x1': 735.029717,\n",
       "    'y1': 327.582714,\n",
       "    'x2': 745.778525,\n",
       "    'y2': 342.938154}},\n",
       "  {'id': '1551',\n",
       "   'attributes': {'occluded': False,\n",
       "    'truncated': False,\n",
       "    'trafficLightColor': 'R'},\n",
       "   'category': 'traffic light',\n",
       "   'box2d': {'x1': 759.598422,\n",
       "    'y1': 362.900225,\n",
       "    'x2': 770.34723,\n",
       "    'y2': 376.72012}},\n",
       "  {'id': '1552',\n",
       "   'attributes': {'occluded': False,\n",
       "    'truncated': False,\n",
       "    'trafficLightColor': 'NA'},\n",
       "   'category': 'traffic sign',\n",
       "   'box2d': {'x1': 758.062877,\n",
       "    'y1': 352.151417,\n",
       "    'x2': 770.347229,\n",
       "    'y2': 359.829138}},\n",
       "  {'id': '1553',\n",
       "   'attributes': {'occluded': False,\n",
       "    'truncated': False,\n",
       "    'trafficLightColor': 'NA'},\n",
       "   'category': 'car',\n",
       "   'box2d': {'x1': 684.356767,\n",
       "    'y1': 381.326753,\n",
       "    'x2': 711.996559,\n",
       "    'y2': 399.753282}},\n",
       "  {'id': '1554',\n",
       "   'attributes': {'occluded': True,\n",
       "    'truncated': False,\n",
       "    'trafficLightColor': 'NA'},\n",
       "   'category': 'car',\n",
       "   'box2d': {'x1': 662.859151,\n",
       "    'y1': 384.397841,\n",
       "    'x2': 679.750135,\n",
       "    'y2': 399.753282}},\n",
       "  {'id': '1555',\n",
       "   'attributes': {'occluded': True,\n",
       "    'truncated': False,\n",
       "    'trafficLightColor': 'NA'},\n",
       "   'category': 'car',\n",
       "   'box2d': {'x1': 644.432621,\n",
       "    'y1': 379.79121,\n",
       "    'x2': 665.930239,\n",
       "    'y2': 399.753282}},\n",
       "  {'id': '1556',\n",
       "   'attributes': {'occluded': True,\n",
       "    'truncated': False,\n",
       "    'trafficLightColor': 'NA'},\n",
       "   'category': 'car',\n",
       "   'box2d': {'x1': 613.721741,\n",
       "    'y1': 372.113489,\n",
       "    'x2': 652.110343,\n",
       "    'y2': 405.895457}},\n",
       "  {'id': '1557',\n",
       "   'attributes': {'occluded': True,\n",
       "    'truncated': False,\n",
       "    'trafficLightColor': 'NA'},\n",
       "   'category': 'car',\n",
       "   'box2d': {'x1': 595.295214,\n",
       "    'y1': 381.326753,\n",
       "    'x2': 632.148269,\n",
       "    'y2': 415.108723}},\n",
       "  {'id': '1558',\n",
       "   'attributes': {'occluded': True,\n",
       "    'truncated': False,\n",
       "    'trafficLightColor': 'NA'},\n",
       "   'category': 'car',\n",
       "   'box2d': {'x1': 540.015629,\n",
       "    'y1': 369.042401,\n",
       "    'x2': 607.579566,\n",
       "    'y2': 427.393075}},\n",
       "  {'id': '1559',\n",
       "   'attributes': {'occluded': True,\n",
       "    'truncated': False,\n",
       "    'trafficLightColor': 'NA'},\n",
       "   'category': 'car',\n",
       "   'box2d': {'x1': 524.660189,\n",
       "    'y1': 378.255665,\n",
       "    'x2': 592.224125,\n",
       "    'y2': 445.819602}},\n",
       "  {'id': '1560',\n",
       "   'attributes': {'occluded': True,\n",
       "    'truncated': False,\n",
       "    'trafficLightColor': 'NA'},\n",
       "   'category': 'car',\n",
       "   'box2d': {'x1': 452.48962,\n",
       "    'y1': 378.255665,\n",
       "    'x2': 559.977701,\n",
       "    'y2': 465.781673}},\n",
       "  {'id': '1561',\n",
       "   'attributes': {'occluded': False,\n",
       "    'truncated': False,\n",
       "    'trafficLightColor': 'NA'},\n",
       "   'category': 'car',\n",
       "   'box2d': {'x1': 269.3161797558416,\n",
       "    'y1': 373.649033,\n",
       "    'x2': 512.375837,\n",
       "    'y2': 510.4383227461182}},\n",
       "  {'id': '1562',\n",
       "   'attributes': {'occluded': True,\n",
       "    'truncated': False,\n",
       "    'trafficLightColor': 'NA'},\n",
       "   'category': 'car',\n",
       "   'box2d': {'x1': 715.067644,\n",
       "    'y1': 389.004473,\n",
       "    'x2': 735.029717,\n",
       "    'y2': 402.824369}},\n",
       "  {'id': '1563',\n",
       "   'attributes': {'occluded': True,\n",
       "    'truncated': False,\n",
       "    'trafficLightColor': 'NA'},\n",
       "   'category': 'car',\n",
       "   'box2d': {'x1': 731.958629,\n",
       "    'y1': 381.326753,\n",
       "    'x2': 750.385158,\n",
       "    'y2': 402.824369}},\n",
       "  {'id': '1564',\n",
       "   'attributes': {'occluded': True,\n",
       "    'truncated': False,\n",
       "    'trafficLightColor': 'NA'},\n",
       "   'category': 'car',\n",
       "   'box2d': {'x1': 736.565261,\n",
       "    'y1': 378.255665,\n",
       "    'x2': 764.205053,\n",
       "    'y2': 405.895457}},\n",
       "  {'id': '1565',\n",
       "   'attributes': {'occluded': True,\n",
       "    'truncated': False,\n",
       "    'trafficLightColor': 'NA'},\n",
       "   'category': 'car',\n",
       "   'box2d': {'x1': 753.456245,\n",
       "    'y1': 373.649033,\n",
       "    'x2': 804.129197,\n",
       "    'y2': 418.179811}},\n",
       "  {'id': '1566',\n",
       "   'attributes': {'occluded': True,\n",
       "    'truncated': False,\n",
       "    'trafficLightColor': 'NA'},\n",
       "   'category': 'car',\n",
       "   'box2d': {'x1': 788.773758,\n",
       "    'y1': 378.255665,\n",
       "    'x2': 834.840079,\n",
       "    'y2': 427.393075}},\n",
       "  {'id': '1567',\n",
       "   'attributes': {'occluded': True,\n",
       "    'truncated': False,\n",
       "    'trafficLightColor': 'NA'},\n",
       "   'category': 'car',\n",
       "   'box2d': {'x1': 813.342462,\n",
       "    'y1': 362.900225,\n",
       "    'x2': 882.441942,\n",
       "    'y2': 448.890688}},\n",
       "  {'id': '1568',\n",
       "   'attributes': {'occluded': True,\n",
       "    'truncated': False,\n",
       "    'trafficLightColor': 'NA'},\n",
       "   'category': 'car',\n",
       "   'box2d': {'x1': 844.7691107185186,\n",
       "    'y1': 359.829138,\n",
       "    'x2': 1008.8836577572346,\n",
       "    'y2': 479.60157}},\n",
       "  {'id': '1569',\n",
       "   'attributes': {'occluded': False,\n",
       "    'truncated': False,\n",
       "    'trafficLightColor': 'NA'},\n",
       "   'category': 'car',\n",
       "   'box2d': {'x1': 907.890090348794,\n",
       "    'y1': 382.862297,\n",
       "    'x2': 1190.8824823578618,\n",
       "    'y2': 532.5306656167146}}]}"
      ]
     },
     "execution_count": 19,
     "metadata": {},
     "output_type": "execute_result"
    }
   ],
   "source": [
    "%%time\n",
    "annotations[80]"
   ]
  },
  {
   "cell_type": "code",
   "execution_count": 26,
   "id": "049bc188",
   "metadata": {},
   "outputs": [
    {
     "data": {
      "text/plain": [
       "4"
      ]
     },
     "execution_count": 26,
     "metadata": {},
     "output_type": "execute_result"
    }
   ],
   "source": [
    "len(annotations[0])"
   ]
  },
  {
   "cell_type": "code",
   "execution_count": 29,
   "id": "e6295a5b",
   "metadata": {},
   "outputs": [
    {
     "data": {
      "text/plain": [
       "{'id': '0',\n",
       " 'attributes': {'occluded': False,\n",
       "  'truncated': False,\n",
       "  'trafficLightColor': 'G'},\n",
       " 'category': 'traffic light',\n",
       " 'box2d': {'x1': 1125.902264,\n",
       "  'y1': 133.184488,\n",
       "  'x2': 1156.978645,\n",
       "  'y2': 210.875445}}"
      ]
     },
     "execution_count": 29,
     "metadata": {},
     "output_type": "execute_result"
    }
   ],
   "source": [
    "annotations[0]['labels'][0]"
   ]
  },
  {
   "cell_type": "code",
   "execution_count": 49,
   "id": "7881f222",
   "metadata": {},
   "outputs": [
    {
     "name": "stdout",
     "output_type": "stream",
     "text": [
      "hello\n"
     ]
    }
   ],
   "source": [
    "if not 'labels' in annotations[6879].keys():\n",
    "    print('hello')"
   ]
  },
  {
   "cell_type": "code",
   "execution_count": 42,
   "id": "a9dc509e",
   "metadata": {},
   "outputs": [
    {
     "data": {
      "text/plain": [
       "{'name': '11ecaf4a-837e3550.jpg',\n",
       " 'attributes': {'weather': 'clear', 'timeofday': 'night', 'scene': 'highway'},\n",
       " 'timestamp': 10000}"
      ]
     },
     "execution_count": 42,
     "metadata": {},
     "output_type": "execute_result"
    }
   ],
   "source": [
    "annotations[6879]"
   ]
  },
  {
   "cell_type": "code",
   "execution_count": 48,
   "id": "eefb1063",
   "metadata": {},
   "outputs": [
    {
     "data": {
      "text/plain": [
       "0"
      ]
     },
     "execution_count": 48,
     "metadata": {},
     "output_type": "execute_result"
    }
   ],
   "source": [
    "len(annotations) - i"
   ]
  },
  {
   "cell_type": "code",
   "execution_count": 55,
   "id": "c05fd0f7",
   "metadata": {},
   "outputs": [
    {
     "name": "stdout",
     "output_type": "stream",
     "text": [
      "10\n"
     ]
    }
   ],
   "source": [
    "i = 0\n",
    "for annotation in annotations:\n",
    "    if not 'labels' in annotation.keys():\n",
    "        i += 1\n",
    "print(i)"
   ]
  },
  {
   "cell_type": "code",
   "execution_count": 34,
   "id": "5b82c9b9",
   "metadata": {},
   "outputs": [
    {
     "name": "stdout",
     "output_type": "stream",
     "text": [
      "../../..det_val.json\n"
     ]
    }
   ],
   "source": [
    "stage = 'test'\n",
    "\n",
    "path = '../../..'\n",
    "\n",
    "path = path + ('det_train.json' if stage=='train' else 'det_val.json')\n",
    "print(path)"
   ]
  },
  {
   "cell_type": "code",
   "execution_count": null,
   "id": "e073d4f8",
   "metadata": {},
   "outputs": [],
   "source": [
    "detection_db = deque()\n",
    "\n",
    "for item in annotations:\n",
    "    image_name = item['name']\n",
    "    classes = []\n",
    "    bboxes = []\n",
    "    objects = item['labels']\n",
    "    for obj in objects:\n",
    "        x1 = obj['box2d']['x1']\n",
    "        y1 = obj['box2d']['y1']\n",
    "        x2 = obj['box2d']['x2']\n",
    "        y2 = obj['box2d']['y2']\n",
    "        \n",
    "        bbox = [x1, y1, x2-x1, y2-y1]  # bbox of form: (x, y, w, h)\n",
    "        \n",
    "        bboxes.append(bboxes)\n",
    "    \n",
    "    \n",
    "    detection_db.append({\n",
    "        'name': image_name,\n",
    "        'classes': classes,\n",
    "        'bboxes': bboxes\n",
    "    })"
   ]
  }
 ],
 "metadata": {
  "kernelspec": {
   "display_name": "Python [conda env:yoloc] *",
   "language": "python",
   "name": "conda-env-yoloc-py"
  },
  "language_info": {
   "codemirror_mode": {
    "name": "ipython",
    "version": 3
   },
   "file_extension": ".py",
   "mimetype": "text/x-python",
   "name": "python",
   "nbconvert_exporter": "python",
   "pygments_lexer": "ipython3",
   "version": "3.10.4"
  }
 },
 "nbformat": 4,
 "nbformat_minor": 5
}
