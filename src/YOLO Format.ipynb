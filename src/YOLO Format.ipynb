{
 "cells": [
  {
   "cell_type": "markdown",
   "id": "cf401bcb",
   "metadata": {},
   "source": [
    "# Prepare Annotations to YOLO Format"
   ]
  },
  {
   "cell_type": "markdown",
   "id": "e7ab1917",
   "metadata": {},
   "source": [
    "## Import Libraries"
   ]
  },
  {
   "cell_type": "code",
   "execution_count": 1,
   "id": "6bf8f7b3",
   "metadata": {},
   "outputs": [],
   "source": [
    "from config.defaults import cfg\n",
    "from dataset.bdd_detetcion import BDDDetection\n",
    "from utils.utils import *\n",
    "import os"
   ]
  },
  {
   "cell_type": "markdown",
   "id": "2976679e",
   "metadata": {},
   "source": [
    "## Initialize Dataset Class"
   ]
  },
  {
   "cell_type": "code",
   "execution_count": 2,
   "id": "296289cf",
   "metadata": {},
   "outputs": [],
   "source": [
    "obj_cls = ['__bgr__', 'pedestrian', 'car', 'rider', 'bicycle', 'motorcycle', 'truck', 'bus']\n",
    "# cfg.DATASET.ROOT = 'BDD100K'\n",
    "# cfg.DATASET.IMAGE_ROOT = 'images/bdd100k/images/100k'"
   ]
  },
  {
   "cell_type": "code",
   "execution_count": 3,
   "id": "ab75e801",
   "metadata": {},
   "outputs": [
    {
     "name": "stderr",
     "output_type": "stream",
     "text": [
      "100%|██████████████████████████████████████████████████████████████████████████| 69863/69863 [00:07<00:00, 9415.54it/s]\n"
     ]
    },
    {
     "name": "stdout",
     "output_type": "stream",
     "text": [
      "CPU times: total: 26.4 s\n",
      "Wall time: 27.7 s\n"
     ]
    }
   ],
   "source": [
    "%%time\n",
    "bdd_train_params = {\n",
    "    'cfg': cfg,\n",
    "    'relative_path': '..',\n",
    "    'stage': 'train',\n",
    "    'obj_cls': obj_cls\n",
    "}\n",
    "\n",
    "bdd_train = BDDDetection(**bdd_train_params)"
   ]
  },
  {
   "cell_type": "code",
   "execution_count": null,
   "id": "fdedb48c",
   "metadata": {},
   "outputs": [],
   "source": [
    "%%time\n",
    "bdd_val_params = {\n",
    "    'cfg': cfg,\n",
    "    'relative_path': '..',\n",
    "    'stage': 'val',\n",
    "    'obj_cls': obj_cls\n",
    "}\n",
    "\n",
    "bdd_val = BDDDetection(**bdd_val_params)"
   ]
  },
  {
   "cell_type": "code",
   "execution_count": null,
   "id": "fedb6619",
   "metadata": {},
   "outputs": [],
   "source": [
    "%%time\n",
    "bdd_test_params = {\n",
    "    'cfg': cfg,\n",
    "    'stage': 'test',\n",
    "    'relative_path': '..',\n",
    "    'obj_cls': obj_cls\n",
    "}\n",
    "\n",
    "bdd_test = BDDDetection(**bdd_test_params)"
   ]
  },
  {
   "cell_type": "code",
   "execution_count": 4,
   "id": "aa7444a9",
   "metadata": {},
   "outputs": [
    {
     "name": "stdout",
     "output_type": "stream",
     "text": [
      "We have 13856 training images\n"
     ]
    }
   ],
   "source": [
    "print(f\"We have {len(bdd_train)} training images, {len(bdd_val)} validation images and {len(bdd_test)} test images.\")"
   ]
  },
  {
   "cell_type": "markdown",
   "id": "bc3c6d3d",
   "metadata": {},
   "source": [
    "## Create YOLO Format Deque"
   ]
  },
  {
   "cell_type": "code",
   "execution_count": null,
   "id": "c5bc46a2",
   "metadata": {},
   "outputs": [],
   "source": [
    "path_to_yolo = '../../Training/dataset'"
   ]
  },
  {
   "cell_type": "markdown",
   "id": "a45db419",
   "metadata": {},
   "source": [
    "## Train"
   ]
  },
  {
   "cell_type": "code",
   "execution_count": 6,
   "id": "e3328fed",
   "metadata": {},
   "outputs": [
    {
     "name": "stdout",
     "output_type": "stream",
     "text": [
      "Start converting.\n"
     ]
    },
    {
     "name": "stderr",
     "output_type": "stream",
     "text": [
      "100%|███████████████████████████████████████████████████████████████████████████| 13856/13856 [00:21<00:00, 655.96it/s]"
     ]
    },
    {
     "name": "stdout",
     "output_type": "stream",
     "text": [
      "Finish from converting\n"
     ]
    },
    {
     "name": "stderr",
     "output_type": "stream",
     "text": [
      "\n"
     ]
    }
   ],
   "source": [
    "yolo_train = create_yolo_annotation(bdd_train)"
   ]
  },
  {
   "cell_type": "code",
   "execution_count": 7,
   "id": "70a6801d",
   "metadata": {},
   "outputs": [
    {
     "data": {
      "text/plain": [
       "13856"
      ]
     },
     "execution_count": 7,
     "metadata": {},
     "output_type": "execute_result"
    }
   ],
   "source": [
    "len(yolo_train)"
   ]
  },
  {
   "cell_type": "code",
   "execution_count": 8,
   "id": "0cfaaee8",
   "metadata": {},
   "outputs": [
    {
     "name": "stdout",
     "output_type": "stream",
     "text": [
      "Start copying files.\n"
     ]
    },
    {
     "name": "stderr",
     "output_type": "stream",
     "text": [
      "100%|███████████████████████████████████████████████████████████████████████████| 13856/13856 [00:51<00:00, 268.75it/s]"
     ]
    },
    {
     "name": "stdout",
     "output_type": "stream",
     "text": [
      "All files are in ../../Training/dataset now.\n",
      "CPU times: total: 37.4 s\n",
      "Wall time: 51.6 s\n"
     ]
    },
    {
     "name": "stderr",
     "output_type": "stream",
     "text": [
      "\n"
     ]
    }
   ],
   "source": [
    "%%time\n",
    "move_files(yolo_train, path_to_yolo, bdd_train.stage)"
   ]
  },
  {
   "cell_type": "markdown",
   "id": "f6f0a2fe",
   "metadata": {},
   "source": [
    "## Validation"
   ]
  },
  {
   "cell_type": "code",
   "execution_count": null,
   "id": "5e7ceee4",
   "metadata": {},
   "outputs": [],
   "source": [
    "yolo_val = create_yolo_annotation(bdd_val)"
   ]
  },
  {
   "cell_type": "code",
   "execution_count": null,
   "id": "8f36cdb1",
   "metadata": {},
   "outputs": [],
   "source": [
    "len(yolo_val)"
   ]
  },
  {
   "cell_type": "code",
   "execution_count": null,
   "id": "aff9a51f",
   "metadata": {},
   "outputs": [],
   "source": [
    "%%time\n",
    "move_files(yolo_train, path_to_yolo, bdd_val.stage)"
   ]
  },
  {
   "cell_type": "markdown",
   "id": "12d92166",
   "metadata": {},
   "source": [
    "## Test"
   ]
  },
  {
   "cell_type": "code",
   "execution_count": null,
   "id": "bd84e23c",
   "metadata": {},
   "outputs": [],
   "source": [
    "yolo_test = create_yolo_annotation(bdd_test)"
   ]
  },
  {
   "cell_type": "code",
   "execution_count": null,
   "id": "ce4b93bc",
   "metadata": {},
   "outputs": [],
   "source": [
    "len(yolo_test)"
   ]
  },
  {
   "cell_type": "code",
   "execution_count": null,
   "id": "b9ee8c63",
   "metadata": {},
   "outputs": [],
   "source": [
    "%%time\n",
    "move_files(yolo_test, path_to_yolo, bdd_test.stage)"
   ]
  }
 ],
 "metadata": {
  "kernelspec": {
   "display_name": "Python [conda env:yoloc] *",
   "language": "python",
   "name": "conda-env-yoloc-py"
  },
  "language_info": {
   "codemirror_mode": {
    "name": "ipython",
    "version": 3
   },
   "file_extension": ".py",
   "mimetype": "text/x-python",
   "name": "python",
   "nbconvert_exporter": "python",
   "pygments_lexer": "ipython3",
   "version": "3.10.4"
  }
 },
 "nbformat": 4,
 "nbformat_minor": 5
}
