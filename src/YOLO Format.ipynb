{
 "cells": [
  {
   "cell_type": "markdown",
   "id": "cf401bcb",
   "metadata": {},
   "source": [
    "# Prepare Annotations to YOLO Format"
   ]
  },
  {
   "cell_type": "markdown",
   "id": "e7ab1917",
   "metadata": {},
   "source": [
    "## Import Libraries"
   ]
  },
  {
   "cell_type": "code",
   "execution_count": 1,
   "id": "6bf8f7b3",
   "metadata": {},
   "outputs": [],
   "source": [
    "from config.defaults import cfg\n",
    "from dataset.bdd_detetcion import BDDDetection\n",
    "from utils.utils import *\n",
    "import os"
   ]
  },
  {
   "cell_type": "markdown",
   "id": "2976679e",
   "metadata": {},
   "source": [
    "## Initialize Dataset Class"
   ]
  },
  {
   "cell_type": "code",
   "execution_count": 2,
   "id": "296289cf",
   "metadata": {},
   "outputs": [],
   "source": [
    "obj_cls = ['__bgr__', 'pedestrian', 'car', 'rider', 'bicycle', 'motorcycle', 'truck', 'bus']\n",
    "# cfg.DATASET.ROOT = 'BDD100K'\n",
    "# cfg.DATASET.IMAGE_ROOT = 'images/bdd100k/images/100k'"
   ]
  },
  {
   "cell_type": "code",
   "execution_count": 3,
   "id": "ab75e801",
   "metadata": {},
   "outputs": [
    {
     "name": "stderr",
     "output_type": "stream",
     "text": [
      "100%|██████████████████████████████████████████████████████████████████████████| 69863/69863 [00:07<00:00, 9415.54it/s]\n"
     ]
    },
    {
     "name": "stdout",
     "output_type": "stream",
     "text": [
      "CPU times: total: 26.4 s\n",
      "Wall time: 27.7 s\n"
     ]
    }
   ],
   "source": [
    "%%time\n",
    "bdd_params = {\n",
    "    'cfg': cfg,\n",
    "    'relative_path': '..',\n",
    "    'stage': 'val',\n",
    "    'obj_cls': obj_cls\n",
    "}\n",
    "\n",
    "bdd = BDDDetection(**bdd_params)"
   ]
  },
  {
   "cell_type": "code",
   "execution_count": 4,
   "id": "aa7444a9",
   "metadata": {},
   "outputs": [
    {
     "name": "stdout",
     "output_type": "stream",
     "text": [
      "We have 13856 training images\n"
     ]
    }
   ],
   "source": [
    "print(f\"We have {len(bdd)} training images\")"
   ]
  },
  {
   "cell_type": "code",
   "execution_count": 5,
   "id": "8e433982",
   "metadata": {},
   "outputs": [
    {
     "data": {
      "text/plain": [
       "13856"
      ]
     },
     "execution_count": 5,
     "metadata": {},
     "output_type": "execute_result"
    }
   ],
   "source": [
    "len(bdd)"
   ]
  },
  {
   "cell_type": "markdown",
   "id": "2a8ad2cd",
   "metadata": {},
   "source": [
    "## Create YOLO Format Deque"
   ]
  },
  {
   "cell_type": "code",
   "execution_count": 6,
   "id": "0d1fdfa9",
   "metadata": {},
   "outputs": [
    {
     "name": "stdout",
     "output_type": "stream",
     "text": [
      "Start converting.\n"
     ]
    },
    {
     "name": "stderr",
     "output_type": "stream",
     "text": [
      "100%|███████████████████████████████████████████████████████████████████████████| 13856/13856 [00:21<00:00, 655.96it/s]"
     ]
    },
    {
     "name": "stdout",
     "output_type": "stream",
     "text": [
      "Finish from converting\n"
     ]
    },
    {
     "name": "stderr",
     "output_type": "stream",
     "text": [
      "\n"
     ]
    }
   ],
   "source": [
    "yolo_deque = create_yolo_annotation(bdd)"
   ]
  },
  {
   "cell_type": "code",
   "execution_count": 14,
   "id": "6a9d7aec",
   "metadata": {},
   "outputs": [
    {
     "data": {
      "text/plain": [
       "{'image_name': '6c1926b0-6fdf66e4.jpg',\n",
       " 'image_path': '..\\\\dataset\\\\bdd100k\\\\images\\\\100k\\\\images\\\\100k\\\\train\\\\6c1926b0-6fdf66e4.jpg',\n",
       " 'width': 1280,\n",
       " 'height': 720,\n",
       " 'yolo_boxes': [[1, 0.0426, 0.4483, 0.0556, 0.0225],\n",
       "  [1, 0.0109, 0.4665, 0.0234, 0.1109],\n",
       "  [1, 0.1493, 0.4414, 0.039, 0.0364],\n",
       "  [1, 0.2882, 0.4319, 0.0205, 0.0277],\n",
       "  [1, 0.238, 0.4353, 0.0175, 0.0208],\n",
       "  [1, 0.2497, 0.4362, 0.0136, 0.0191],\n",
       "  [1, 0.2722, 0.4362, 0.0175, 0.0191],\n",
       "  [1, 0.3121, 0.4275, 0.0234, 0.0191],\n",
       "  [1, 0.3648, 0.4327, 0.0175, 0.0295],\n",
       "  [1, 0.3843, 0.4293, 0.0253, 0.0225],\n",
       "  [1, 0.3794, 0.4466, 0.0312, 0.0433],\n",
       "  [1, 0.4198, 0.4197, 0.0205, 0.0173],\n",
       "  [1, 0.3438, 0.4336, 0.0205, 0.0243],\n",
       "  [1, 0.3258, 0.4466, 0.037, 0.0433],\n",
       "  [1, 0.2, 0.47, 0.1093, 0.1005],\n",
       "  [5, 0.7295, 0.4362, 0.1394, 0.1057],\n",
       "  [1, 0.4347, 0.4808, 0.1244, 0.2082]]}"
      ]
     },
     "execution_count": 14,
     "metadata": {},
     "output_type": "execute_result"
    }
   ],
   "source": [
    "yolo_deque[0]"
   ]
  },
  {
   "cell_type": "code",
   "execution_count": 7,
   "id": "126e7da1",
   "metadata": {},
   "outputs": [
    {
     "data": {
      "text/plain": [
       "13856"
      ]
     },
     "execution_count": 7,
     "metadata": {},
     "output_type": "execute_result"
    }
   ],
   "source": [
    "len(yolo_deque)"
   ]
  },
  {
   "cell_type": "code",
   "execution_count": 8,
   "id": "8ca4cff2",
   "metadata": {},
   "outputs": [
    {
     "name": "stdout",
     "output_type": "stream",
     "text": [
      "Start copying files.\n"
     ]
    },
    {
     "name": "stderr",
     "output_type": "stream",
     "text": [
      "100%|███████████████████████████████████████████████████████████████████████████| 13856/13856 [00:51<00:00, 268.75it/s]"
     ]
    },
    {
     "name": "stdout",
     "output_type": "stream",
     "text": [
      "All files are in ../../Training/dataset now.\n",
      "CPU times: total: 37.4 s\n",
      "Wall time: 51.6 s\n"
     ]
    },
    {
     "name": "stderr",
     "output_type": "stream",
     "text": [
      "\n"
     ]
    }
   ],
   "source": [
    "%%time\n",
    "move_files(yolo_deque, '../../Training/dataset', 'val')"
   ]
  },
  {
   "cell_type": "code",
   "execution_count": 9,
   "id": "568036ce",
   "metadata": {},
   "outputs": [],
   "source": [
    "import os"
   ]
  },
  {
   "cell_type": "code",
   "execution_count": 10,
   "id": "ee658a49",
   "metadata": {},
   "outputs": [
    {
     "data": {
      "text/plain": [
       "13856"
      ]
     },
     "execution_count": 10,
     "metadata": {},
     "output_type": "execute_result"
    }
   ],
   "source": [
    "len(os.listdir('../../Training/dataset/images/val'))"
   ]
  },
  {
   "cell_type": "code",
   "execution_count": 12,
   "id": "233957fb",
   "metadata": {},
   "outputs": [
    {
     "data": {
      "text/plain": [
       "13856"
      ]
     },
     "execution_count": 12,
     "metadata": {},
     "output_type": "execute_result"
    }
   ],
   "source": [
    "len(os.listdir('../../Training/dataset/labels/val'))"
   ]
  }
 ],
 "metadata": {
  "kernelspec": {
   "display_name": "Python [conda env:yoloc] *",
   "language": "python",
   "name": "conda-env-yoloc-py"
  },
  "language_info": {
   "codemirror_mode": {
    "name": "ipython",
    "version": 3
   },
   "file_extension": ".py",
   "mimetype": "text/x-python",
   "name": "python",
   "nbconvert_exporter": "python",
   "pygments_lexer": "ipython3",
   "version": "3.10.4"
  }
 },
 "nbformat": 4,
 "nbformat_minor": 5
}
