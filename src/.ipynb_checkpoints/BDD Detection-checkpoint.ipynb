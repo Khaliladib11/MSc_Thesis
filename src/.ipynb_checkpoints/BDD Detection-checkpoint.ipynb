{
 "cells": [
  {
   "cell_type": "markdown",
   "id": "73f0c82d",
   "metadata": {},
   "source": [
    "# BDD Detection Class"
   ]
  },
  {
   "cell_type": "markdown",
   "id": "a411b7bc",
   "metadata": {},
   "source": [
    "## Import Libraries"
   ]
  },
  {
   "cell_type": "code",
   "execution_count": 1,
   "id": "42ceae9f",
   "metadata": {},
   "outputs": [],
   "source": [
    "from config.defaults import cfg\n",
    "from dataset.bdd_detetcion import BDDDetection\n",
    "import random"
   ]
  },
  {
   "cell_type": "markdown",
   "id": "0480183a",
   "metadata": {},
   "source": [
    "## Initialize Dataset Class"
   ]
  },
  {
   "cell_type": "code",
   "execution_count": 2,
   "id": "0a96f5c8",
   "metadata": {},
   "outputs": [],
   "source": [
    "obj_cls = ['__bgr__', 'pedestrian', 'car', 'rider', 'bicycle', 'motorcycle', 'truck', 'bus']"
   ]
  },
  {
   "cell_type": "code",
   "execution_count": 3,
   "id": "194bd300",
   "metadata": {},
   "outputs": [
    {
     "ename": "AssertionError",
     "evalue": "Please choose classes from the following: ['__bgr__', 'pedestrian', 'rider', 'car', 'truck', 'bus', 'train', 'motorcycle', 'bicycle', 'traffic light', 'traffic sign']",
     "output_type": "error",
     "traceback": [
      "\u001b[1;31m---------------------------------------------------------------------------\u001b[0m",
      "\u001b[1;31mAssertionError\u001b[0m                            Traceback (most recent call last)",
      "File \u001b[1;32m<timed exec>:7\u001b[0m, in \u001b[0;36m<module>\u001b[1;34m\u001b[0m\n",
      "File \u001b[1;32mD:\\City University of London\\MSc Artificial intelligence\\Term 3\\Project\\src\\dataset\\bdd_detetcion.py:48\u001b[0m, in \u001b[0;36mBDDDetection.__init__\u001b[1;34m(self, cfg, stage, obj_cls, db_path, relative_path, image_size, transform)\u001b[0m\n\u001b[0;32m     45\u001b[0m \u001b[38;5;28msuper\u001b[39m(BDDDetection, \u001b[38;5;28mself\u001b[39m)\u001b[38;5;241m.\u001b[39m\u001b[38;5;21m__init__\u001b[39m(cfg, stage, obj_cls, db_path, relative_path, image_size, transform)\n\u001b[0;32m     47\u001b[0m \u001b[38;5;66;03m# check if the classes are in the DETECTION_CLASSES\u001b[39;00m\n\u001b[1;32m---> 48\u001b[0m \u001b[38;5;28;01massert\u001b[39;00m \u001b[38;5;28mall\u001b[39m(\u001b[38;5;28mcls\u001b[39m \u001b[38;5;129;01min\u001b[39;00m cfg\u001b[38;5;241m.\u001b[39mDATASET\u001b[38;5;241m.\u001b[39mDETECTION_CLASSES \u001b[38;5;28;01mfor\u001b[39;00m \u001b[38;5;28mcls\u001b[39m \u001b[38;5;129;01min\u001b[39;00m\n\u001b[0;32m     49\u001b[0m            obj_cls), \u001b[38;5;124mf\u001b[39m\u001b[38;5;124m\"\u001b[39m\u001b[38;5;124mPlease choose classes from the following: \u001b[39m\u001b[38;5;132;01m{\u001b[39;00mcfg\u001b[38;5;241m.\u001b[39mDATASET\u001b[38;5;241m.\u001b[39mDETECTION_CLASSES\u001b[38;5;132;01m}\u001b[39;00m\u001b[38;5;124m\"\u001b[39m\n\u001b[0;32m     51\u001b[0m \u001b[38;5;66;03m# load pre created db\u001b[39;00m\n\u001b[0;32m     52\u001b[0m \u001b[38;5;28;01mif\u001b[39;00m db_path:\n",
      "\u001b[1;31mAssertionError\u001b[0m: Please choose classes from the following: ['__bgr__', 'pedestrian', 'rider', 'car', 'truck', 'bus', 'train', 'motorcycle', 'bicycle', 'traffic light', 'traffic sign']"
     ]
    }
   ],
   "source": [
    "%%time\n",
    "bdd_train_params = {\n",
    "    'cfg': cfg,\n",
    "    'stage': 'train',\n",
    "    'obj_cls': obj_cls\n",
    "}\n",
    "\n",
    "bdd_train = BDDDetection(**bdd_train_params)"
   ]
  },
  {
   "cell_type": "code",
   "execution_count": 4,
   "id": "bfe571f6",
   "metadata": {},
   "outputs": [
    {
     "ename": "AssertionError",
     "evalue": "Please choose classes from the following: ['__bgr__', 'pedestrian', 'rider', 'car', 'truck', 'bus', 'train', 'motorcycle', 'bicycle', 'traffic light', 'traffic sign']",
     "output_type": "error",
     "traceback": [
      "\u001b[1;31m---------------------------------------------------------------------------\u001b[0m",
      "\u001b[1;31mAssertionError\u001b[0m                            Traceback (most recent call last)",
      "File \u001b[1;32m<timed exec>:7\u001b[0m, in \u001b[0;36m<module>\u001b[1;34m\u001b[0m\n",
      "File \u001b[1;32mD:\\City University of London\\MSc Artificial intelligence\\Term 3\\Project\\src\\dataset\\bdd_detetcion.py:48\u001b[0m, in \u001b[0;36mBDDDetection.__init__\u001b[1;34m(self, cfg, stage, obj_cls, db_path, relative_path, image_size, transform)\u001b[0m\n\u001b[0;32m     45\u001b[0m \u001b[38;5;28msuper\u001b[39m(BDDDetection, \u001b[38;5;28mself\u001b[39m)\u001b[38;5;241m.\u001b[39m\u001b[38;5;21m__init__\u001b[39m(cfg, stage, obj_cls, db_path, relative_path, image_size, transform)\n\u001b[0;32m     47\u001b[0m \u001b[38;5;66;03m# check if the classes are in the DETECTION_CLASSES\u001b[39;00m\n\u001b[1;32m---> 48\u001b[0m \u001b[38;5;28;01massert\u001b[39;00m \u001b[38;5;28mall\u001b[39m(\u001b[38;5;28mcls\u001b[39m \u001b[38;5;129;01min\u001b[39;00m cfg\u001b[38;5;241m.\u001b[39mDATASET\u001b[38;5;241m.\u001b[39mDETECTION_CLASSES \u001b[38;5;28;01mfor\u001b[39;00m \u001b[38;5;28mcls\u001b[39m \u001b[38;5;129;01min\u001b[39;00m\n\u001b[0;32m     49\u001b[0m            obj_cls), \u001b[38;5;124mf\u001b[39m\u001b[38;5;124m\"\u001b[39m\u001b[38;5;124mPlease choose classes from the following: \u001b[39m\u001b[38;5;132;01m{\u001b[39;00mcfg\u001b[38;5;241m.\u001b[39mDATASET\u001b[38;5;241m.\u001b[39mDETECTION_CLASSES\u001b[38;5;132;01m}\u001b[39;00m\u001b[38;5;124m\"\u001b[39m\n\u001b[0;32m     51\u001b[0m \u001b[38;5;66;03m# load pre created db\u001b[39;00m\n\u001b[0;32m     52\u001b[0m \u001b[38;5;28;01mif\u001b[39;00m db_path:\n",
      "\u001b[1;31mAssertionError\u001b[0m: Please choose classes from the following: ['__bgr__', 'pedestrian', 'rider', 'car', 'truck', 'bus', 'train', 'motorcycle', 'bicycle', 'traffic light', 'traffic sign']"
     ]
    }
   ],
   "source": [
    "%%time\n",
    "bdd_val_params = {\n",
    "    'cfg': cfg,\n",
    "    'stage': 'val',\n",
    "    'obj_cls': obj_cls\n",
    "}\n",
    "\n",
    "bdd_val = BDDDetection(**bdd_val_params)"
   ]
  },
  {
   "cell_type": "code",
   "execution_count": 5,
   "id": "d6d9004e",
   "metadata": {},
   "outputs": [
    {
     "ename": "AssertionError",
     "evalue": "Please choose classes from the following: ['__bgr__', 'pedestrian', 'rider', 'car', 'truck', 'bus', 'train', 'motorcycle', 'bicycle', 'traffic light', 'traffic sign']",
     "output_type": "error",
     "traceback": [
      "\u001b[1;31m---------------------------------------------------------------------------\u001b[0m",
      "\u001b[1;31mAssertionError\u001b[0m                            Traceback (most recent call last)",
      "File \u001b[1;32m<timed exec>:7\u001b[0m, in \u001b[0;36m<module>\u001b[1;34m\u001b[0m\n",
      "File \u001b[1;32mD:\\City University of London\\MSc Artificial intelligence\\Term 3\\Project\\src\\dataset\\bdd_detetcion.py:48\u001b[0m, in \u001b[0;36mBDDDetection.__init__\u001b[1;34m(self, cfg, stage, obj_cls, db_path, relative_path, image_size, transform)\u001b[0m\n\u001b[0;32m     45\u001b[0m \u001b[38;5;28msuper\u001b[39m(BDDDetection, \u001b[38;5;28mself\u001b[39m)\u001b[38;5;241m.\u001b[39m\u001b[38;5;21m__init__\u001b[39m(cfg, stage, obj_cls, db_path, relative_path, image_size, transform)\n\u001b[0;32m     47\u001b[0m \u001b[38;5;66;03m# check if the classes are in the DETECTION_CLASSES\u001b[39;00m\n\u001b[1;32m---> 48\u001b[0m \u001b[38;5;28;01massert\u001b[39;00m \u001b[38;5;28mall\u001b[39m(\u001b[38;5;28mcls\u001b[39m \u001b[38;5;129;01min\u001b[39;00m cfg\u001b[38;5;241m.\u001b[39mDATASET\u001b[38;5;241m.\u001b[39mDETECTION_CLASSES \u001b[38;5;28;01mfor\u001b[39;00m \u001b[38;5;28mcls\u001b[39m \u001b[38;5;129;01min\u001b[39;00m\n\u001b[0;32m     49\u001b[0m            obj_cls), \u001b[38;5;124mf\u001b[39m\u001b[38;5;124m\"\u001b[39m\u001b[38;5;124mPlease choose classes from the following: \u001b[39m\u001b[38;5;132;01m{\u001b[39;00mcfg\u001b[38;5;241m.\u001b[39mDATASET\u001b[38;5;241m.\u001b[39mDETECTION_CLASSES\u001b[38;5;132;01m}\u001b[39;00m\u001b[38;5;124m\"\u001b[39m\n\u001b[0;32m     51\u001b[0m \u001b[38;5;66;03m# load pre created db\u001b[39;00m\n\u001b[0;32m     52\u001b[0m \u001b[38;5;28;01mif\u001b[39;00m db_path:\n",
      "\u001b[1;31mAssertionError\u001b[0m: Please choose classes from the following: ['__bgr__', 'pedestrian', 'rider', 'car', 'truck', 'bus', 'train', 'motorcycle', 'bicycle', 'traffic light', 'traffic sign']"
     ]
    }
   ],
   "source": [
    "%%time\n",
    "bdd_test_params = {\n",
    "    'cfg': cfg,\n",
    "    'stage': 'test',\n",
    "    'obj_cls': obj_cls\n",
    "}\n",
    "\n",
    "bdd_test = BDDDetection(**bdd_test_params)"
   ]
  },
  {
   "cell_type": "code",
   "execution_count": 6,
   "id": "560bebe9",
   "metadata": {},
   "outputs": [
    {
     "ename": "NameError",
     "evalue": "name 'bdd_train' is not defined",
     "output_type": "error",
     "traceback": [
      "\u001b[1;31m---------------------------------------------------------------------------\u001b[0m",
      "\u001b[1;31mNameError\u001b[0m                                 Traceback (most recent call last)",
      "Input \u001b[1;32mIn [6]\u001b[0m, in \u001b[0;36m<cell line: 1>\u001b[1;34m()\u001b[0m\n\u001b[1;32m----> 1\u001b[0m \u001b[38;5;28mprint\u001b[39m(\u001b[38;5;124mf\u001b[39m\u001b[38;5;124m\"\u001b[39m\u001b[38;5;124mWe have \u001b[39m\u001b[38;5;132;01m{\u001b[39;00m\u001b[38;5;28mlen\u001b[39m(bdd_train)\u001b[38;5;132;01m}\u001b[39;00m\u001b[38;5;124m training image, \u001b[39m\u001b[38;5;132;01m{\u001b[39;00m\u001b[38;5;28mlen\u001b[39m(bdd_val)\u001b[38;5;132;01m}\u001b[39;00m\u001b[38;5;124m validation images and \u001b[39m\u001b[38;5;132;01m{\u001b[39;00m\u001b[38;5;28mlen\u001b[39m(bdd_test)\u001b[38;5;132;01m}\u001b[39;00m\u001b[38;5;124m test images.\u001b[39m\u001b[38;5;124m\"\u001b[39m)\n",
      "\u001b[1;31mNameError\u001b[0m: name 'bdd_train' is not defined"
     ]
    }
   ],
   "source": [
    "print(f\"We have {len(bdd_train)} training image, {len(bdd_val)} validation images and {len(bdd_test)} test images.\")"
   ]
  },
  {
   "cell_type": "markdown",
   "id": "36cc63a5",
   "metadata": {},
   "source": [
    "## Display Random Image "
   ]
  },
  {
   "cell_type": "code",
   "execution_count": null,
   "id": "f28ccb73",
   "metadata": {},
   "outputs": [],
   "source": [
    "idx = random.randint(0, len(bdd_train))\n",
    "bdd_train.display_image(idx)"
   ]
  },
  {
   "cell_type": "code",
   "execution_count": null,
   "id": "f4f4d358",
   "metadata": {},
   "outputs": [],
   "source": [
    "idx = random.randint(0, len(bdd_val))\n",
    "bdd_val.display_image(idx)"
   ]
  },
  {
   "cell_type": "code",
   "execution_count": null,
   "id": "e34623c0",
   "metadata": {},
   "outputs": [],
   "source": [
    "idx = random.randint(0, len(bdd_test))\n",
    "bdd_test.display_image(idx)"
   ]
  },
  {
   "cell_type": "markdown",
   "id": "b66fe240",
   "metadata": {},
   "source": [
    "## Exporting DBs"
   ]
  },
  {
   "cell_type": "code",
   "execution_count": null,
   "id": "c719b3e1",
   "metadata": {},
   "outputs": [],
   "source": [
    "bdd_train.export_db('./dbs')\n",
    "bdd_val.export_db('./dbs')\n",
    "bdd_test.export_db('./dbs')"
   ]
  }
 ],
 "metadata": {
  "kernelspec": {
   "display_name": "Python [conda env:yoloc] *",
   "language": "python",
   "name": "conda-env-yoloc-py"
  },
  "language_info": {
   "codemirror_mode": {
    "name": "ipython",
    "version": 3
   },
   "file_extension": ".py",
   "mimetype": "text/x-python",
   "name": "python",
   "nbconvert_exporter": "python",
   "pygments_lexer": "ipython3",
   "version": "3.10.4"
  }
 },
 "nbformat": 4,
 "nbformat_minor": 5
}
