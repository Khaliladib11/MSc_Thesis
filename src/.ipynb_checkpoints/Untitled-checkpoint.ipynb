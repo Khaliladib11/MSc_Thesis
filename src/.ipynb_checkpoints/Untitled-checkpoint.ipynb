{
 "cells": [
  {
   "cell_type": "code",
   "execution_count": 28,
   "id": "2e2a6411",
   "metadata": {},
   "outputs": [],
   "source": [
    "from config.defaults import cfg\n",
    "import os\n",
    "import json\n",
    "import matplotlib.pyplot as plt"
   ]
  },
  {
   "cell_type": "code",
   "execution_count": 8,
   "id": "ccd1d4f1",
   "metadata": {},
   "outputs": [
    {
     "data": {
      "text/plain": [
       "['ins_seg_train.json', 'ins_seg_val.json']"
      ]
     },
     "execution_count": 8,
     "metadata": {},
     "output_type": "execute_result"
    }
   ],
   "source": [
    "os.listdir('../dataset/bdd100k/labels/ins_seg/polygons/ins_seg_train.json')"
   ]
  },
  {
   "cell_type": "code",
   "execution_count": null,
   "id": "ca321c74",
   "metadata": {},
   "outputs": [],
   "source": [
    "images_path = \n"
   ]
  },
  {
   "cell_type": "code",
   "execution_count": 9,
   "id": "13320c15",
   "metadata": {},
   "outputs": [],
   "source": [
    "polygon_root = '../dataset/bdd100k/labels/ins_seg/polygons/ins_seg_train.json'"
   ]
  },
  {
   "cell_type": "code",
   "execution_count": 12,
   "id": "c1e5b6f5",
   "metadata": {},
   "outputs": [],
   "source": [
    "with open(polygon_root, 'r') as f:\n",
    "    polygon_annotation = json.load(f)"
   ]
  },
  {
   "cell_type": "code",
   "execution_count": 24,
   "id": "f6ef13ed",
   "metadata": {},
   "outputs": [],
   "source": [
    "objects = set()\n",
    "objects_numbers = []"
   ]
  },
  {
   "cell_type": "code",
   "execution_count": 25,
   "id": "65da0523",
   "metadata": {},
   "outputs": [],
   "source": [
    "for polygon in polygon_annotation:\n",
    "    for ann in polygon['labels']:\n",
    "        objects.add(ann['category'])\n",
    "        objects_numbers.append(ann['category'])"
   ]
  },
  {
   "cell_type": "code",
   "execution_count": 29,
   "id": "d2e852bb",
   "metadata": {},
   "outputs": [
    {
     "name": "stdout",
     "output_type": "stream",
     "text": [
      "car: 71875\n",
      "trailer: 108\n",
      "train: 65\n",
      "bicycle: 830\n",
      "caravan: 359\n",
      "truck: 3745\n",
      "bus: 1638\n",
      "rider: 471\n",
      "motorcycle: 396\n",
      "person: 9963\n"
     ]
    }
   ],
   "source": [
    "x = []\n",
    "y = []\n",
    "for obj in objects:\n",
    "    print(f\"{obj}: {objects_numbers.count(obj)}\")\n",
    "    x.append(obj)\n",
    "    y.append(objects_numbers.count(obj))"
   ]
  },
  {
   "cell_type": "code",
   "execution_count": 32,
   "id": "b0f7e81c",
   "metadata": {},
   "outputs": [
    {
     "data": {
      "image/png": "[encoded data removed]",
      "text/plain": [
       "<Figure size 432x288 with 1 Axes>"
      ]
     },
     "metadata": {
      "needs_background": "light"
     },
     "output_type": "display_data"
    }
   ],
   "source": [
    "plt.bar(x, y)\n",
    "plt.xticks(rotation=90)\n",
    "plt.show()"
   ]
  },
  {
   "cell_type": "code",
   "execution_count": null,
   "id": "6eb2913c",
   "metadata": {},
   "outputs": [],
   "source": [
    "instance_images = '../dataset'"
   ]
  }
 ],
 "metadata": {
  "kernelspec": {
   "display_name": "Python [conda env:yoloc] *",
   "language": "python",
   "name": "conda-env-yoloc-py"
  },
  "language_info": {
   "codemirror_mode": {
    "name": "ipython",
    "version": 3
   },
   "file_extension": ".py",
   "mimetype": "text/x-python",
   "name": "python",
   "nbconvert_exporter": "python",
   "pygments_lexer": "ipython3",
   "version": "3.10.4"
  }
 },
 "nbformat": 4,
 "nbformat_minor": 5
}
