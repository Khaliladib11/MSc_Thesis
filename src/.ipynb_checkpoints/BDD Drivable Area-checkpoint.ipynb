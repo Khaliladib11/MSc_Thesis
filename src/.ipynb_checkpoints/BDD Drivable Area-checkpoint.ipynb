{
 "cells": [
  {
   "cell_type": "markdown",
   "id": "218b4c0d",
   "metadata": {},
   "source": [
    "# BDD Drivable Area Class"
   ]
  },
  {
   "cell_type": "markdown",
   "id": "cfbbd803",
   "metadata": {},
   "source": [
    "## Import Libraries"
   ]
  },
  {
   "cell_type": "code",
   "execution_count": 1,
   "id": "30b4d4f6",
   "metadata": {},
   "outputs": [],
   "source": [
    "from config.defaults import cfg\n",
    "from dataset.bdd_drivable_segmentation import BDDDrivableSegmentation\n",
    "import random"
   ]
  },
  {
   "cell_type": "markdown",
   "id": "1fd9d568",
   "metadata": {},
   "source": [
    "## Initialize Dataset Class"
   ]
  },
  {
   "cell_type": "code",
   "execution_count": null,
   "id": "998f2dbc",
   "metadata": {},
   "outputs": [],
   "source": [
    "%%time\n",
    "\n",
    "bdd_train_params = {\n",
    "    'cfg': cfg,\n",
    "    'stage': 'train'\n",
    "}\n",
    "\n",
    "bdd_train = BDDDrivableSegmentation(**bdd_train_params)\n",
    "\n",
    "bdd_val_params = {\n",
    "    'cfg': cfg,\n",
    "    'stage': 'val'\n",
    "}\n",
    "\n",
    "bdd_val = BDDDrivableSegmentation(**bdd_val_params)\n",
    "\n",
    "bdd_test_params = {\n",
    "    'cfg': cfg,\n",
    "    'stage': 'test'\n",
    "}\n",
    "\n",
    "bdd_test = BDDDrivableSegmentation(**bdd_test_params)"
   ]
  },
  {
   "cell_type": "code",
   "execution_count": null,
   "id": "ce758263",
   "metadata": {},
   "outputs": [],
   "source": [
    "print(f\"We have {len(bdd_train)} training image, {len(bdd_val)} validation images and {len(bdd_test)} test images.\")"
   ]
  },
  {
   "cell_type": "markdown",
   "id": "e0e0eef1",
   "metadata": {},
   "source": [
    "## Display Random Image "
   ]
  },
  {
   "cell_type": "code",
   "execution_count": null,
   "id": "90d9f170",
   "metadata": {},
   "outputs": [],
   "source": [
    "idx = random.randint(0, len(bdd_train))\n",
    "mask = bdd_train._get_mask(idx)\n",
    "bdd_train.display_image(idx, mask)"
   ]
  },
  {
   "cell_type": "code",
   "execution_count": null,
   "id": "a8021010",
   "metadata": {},
   "outputs": [],
   "source": [
    "idx = random.randint(0, len(bdd_val))\n",
    "mask = bdd_val._get_mask(idx)\n",
    "bdd_val.display_image(idx, mask)"
   ]
  },
  {
   "cell_type": "code",
   "execution_count": null,
   "id": "aac44fac",
   "metadata": {},
   "outputs": [],
   "source": [
    "idx = random.randint(0, len(bdd_test))\n",
    "mask = bdd_test._get_mask(idx)\n",
    "bdd_test.display_image(idx, mask)"
   ]
  }
 ],
 "metadata": {
  "kernelspec": {
   "display_name": "Python [conda env:yoloc] *",
   "language": "python",
   "name": "conda-env-yoloc-py"
  },
  "language_info": {
   "codemirror_mode": {
    "name": "ipython",
    "version": 3
   },
   "file_extension": ".py",
   "mimetype": "text/x-python",
   "name": "python",
   "nbconvert_exporter": "python",
   "pygments_lexer": "ipython3",
   "version": "3.10.4"
  }
 },
 "nbformat": 4,
 "nbformat_minor": 5
}
