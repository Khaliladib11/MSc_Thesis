{
 "cells": [
  {
   "cell_type": "markdown",
   "id": "cf401bcb",
   "metadata": {},
   "source": [
    "# Prepare Annotations to YOLO Format"
   ]
  },
  {
   "cell_type": "markdown",
   "id": "e7ab1917",
   "metadata": {},
   "source": [
    "## Import Libraries"
   ]
  },
  {
   "cell_type": "code",
   "execution_count": 1,
   "id": "6bf8f7b3",
   "metadata": {},
   "outputs": [],
   "source": [
    "from config.defaults import cfg\n",
    "from dataset.bdd_detetcion import BDDDetection\n",
    "from utils.utils import *\n",
    "import os"
   ]
  },
  {
   "cell_type": "markdown",
   "id": "2976679e",
   "metadata": {},
   "source": [
    "## Initialize Dataset Class"
   ]
  },
  {
   "cell_type": "code",
   "execution_count": 2,
   "id": "296289cf",
   "metadata": {},
   "outputs": [],
   "source": [
    "obj_cls = ['__bgr__', 'pedestrian', 'car', 'rider', 'bicycle', 'motorcycle', 'truck', 'bus']\n",
    "# cfg.DATASET.ROOT = 'BDD100K'\n",
    "# cfg.DATASET.IMAGE_ROOT = 'images/bdd100k/images/100k'"
   ]
  },
  {
   "cell_type": "code",
   "execution_count": 15,
   "id": "ab75e801",
   "metadata": {},
   "outputs": [
    {
     "name": "stderr",
     "output_type": "stream",
     "text": [
      "100%|██████████████████████████████████████████████████████████████████████████| 69863/69863 [00:10<00:00, 6835.57it/s]\n"
     ]
    },
    {
     "name": "stdout",
     "output_type": "stream",
     "text": [
      "CPU times: total: 29.8 s\n",
      "Wall time: 42.1 s\n"
     ]
    }
   ],
   "source": [
    "%%time\n",
    "bdd_train_params = {\n",
    "    'cfg': cfg,\n",
    "    'relative_path': '..',\n",
    "    'stage': 'val',\n",
    "    'obj_cls': obj_cls\n",
    "}\n",
    "\n",
    "bdd_train = BDDDetection(**bdd_train_params)"
   ]
  },
  {
   "cell_type": "code",
   "execution_count": 16,
   "id": "aa7444a9",
   "metadata": {},
   "outputs": [
    {
     "name": "stdout",
     "output_type": "stream",
     "text": [
      "We have 13856 training images\n"
     ]
    }
   ],
   "source": [
    "print(f\"We have {len(bdd_train)} training images\")"
   ]
  },
  {
   "cell_type": "code",
   "execution_count": 17,
   "id": "8e433982",
   "metadata": {},
   "outputs": [
    {
     "data": {
      "text/plain": [
       "13856"
      ]
     },
     "execution_count": 17,
     "metadata": {},
     "output_type": "execute_result"
    }
   ],
   "source": [
    "len(bdd_train)"
   ]
  },
  {
   "cell_type": "code",
   "execution_count": 18,
   "id": "1a7e5f58",
   "metadata": {},
   "outputs": [
    {
     "data": {
      "text/plain": [
       "{'image_path': '..\\\\dataset\\\\bdd100k\\\\images\\\\100k\\\\images\\\\100k\\\\train\\\\6c1926b0-6fdf66e4.jpg',\n",
       " 'bboxes': [[19.964065, 315.681773, 91.086045, 331.902575],\n",
       "  [0.0, 296.965462, 29.946097, 376.821721],\n",
       "  [167.199042, 305.69974, 217.109202, 331.902575],\n",
       "  [356.857656, 301.956478, 383.060491, 321.920543],\n",
       "  [294.469954, 306.947495, 316.929527, 321.920544],\n",
       "  [311.938511, 308.195249, 329.407066, 321.920544],\n",
       "  [338.141346, 308.195249, 360.600917, 321.920544],\n",
       "  [385.555999, 301.956478, 415.502096, 315.681773],\n",
       "  [456.67798, 301.956478, 479.137551, 323.168297],\n",
       "  [476.642044, 301.956478, 509.083649, 318.17728],\n",
       "  [466.660012, 306.947495, 506.588141, 338.141346],\n",
       "  [525.304452, 296.965462, 551.507287, 309.443003],\n",
       "  [427.979637, 304.451986, 454.182471, 321.920543],\n",
       "  [394.290278, 306.947495, 441.70493, 338.141346],\n",
       "  [187.05281090289608, 303.204232, 326.911559, 375.573967],\n",
       "  [845.561348, 277.001397, 1023.990176, 353.114395],\n",
       "  [477.77839, 272.188636, 636.956153, 422.097376]],\n",
       " 'classes': [2, 2, 2, 2, 2, 2, 2, 2, 2, 2, 2, 2, 2, 2, 2, 6, 2]}"
      ]
     },
     "execution_count": 18,
     "metadata": {},
     "output_type": "execute_result"
    }
   ],
   "source": [
    "bdd_train.db[0]"
   ]
  }
 ],
 "metadata": {
  "kernelspec": {
   "display_name": "Python [conda env:yoloc] *",
   "language": "python",
   "name": "conda-env-yoloc-py"
  },
  "language_info": {
   "codemirror_mode": {
    "name": "ipython",
    "version": 3
   },
   "file_extension": ".py",
   "mimetype": "text/x-python",
   "name": "python",
   "nbconvert_exporter": "python",
   "pygments_lexer": "ipython3",
   "version": "3.10.4"
  }
 },
 "nbformat": 4,
 "nbformat_minor": 5
}
