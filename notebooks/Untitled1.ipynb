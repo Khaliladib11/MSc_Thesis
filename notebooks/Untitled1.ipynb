{
 "cells": [
  {
   "cell_type": "code",
   "execution_count": 1,
   "id": "adff0ba5",
   "metadata": {},
   "outputs": [],
   "source": [
    "import os, sys\n",
    "BASE_DIR = os.path.dirname(os.path.dirname(os.path.abspath('__file__')))\n",
    "sys.path.append(BASE_DIR)\n",
    "\n",
    "from src.models.Segmentation.FCN import FCN\n",
    "from src.dataset.bdd_drivable_segmentation import BDDDrivableSegmentation\n",
    "from src.config.defaults import cfg\n",
    "from pytorch_lightning import Trainer\n",
    "from pytorch_lightning.profiler import SimpleProfiler\n",
    "from pytorch_lightning.utilities.model_summary import ModelSummary\n",
    "from pytorch_lightning.callbacks.early_stopping import EarlyStopping\n",
    "from pytorch_lightning.loggers import TensorBoardLogger\n",
    "from pytorch_lightning.callbacks import ModelCheckpoint\n",
    "\n",
    "from src.utils.DataLoaders import get_loader\n",
    "\n",
    "import torch\n",
    "import os"
   ]
  },
  {
   "cell_type": "code",
   "execution_count": 2,
   "id": "87b13a8f",
   "metadata": {},
   "outputs": [],
   "source": [
    "from torchvision.models import ResNet50_Weights, ResNet101_Weights\n",
    "from torchvision.models.segmentation import fcn_resnet50, fcn_resnet101"
   ]
  },
  {
   "cell_type": "code",
   "execution_count": 3,
   "id": "7833bf14",
   "metadata": {},
   "outputs": [],
   "source": [
    "fcn_model = fcn_resnet50(weights=None, weights_backbone=ResNet50_Weights.DEFAULT, num_classes=2)"
   ]
  },
  {
   "cell_type": "code",
   "execution_count": 4,
   "id": "89f4f63a",
   "metadata": {},
   "outputs": [],
   "source": [
    "fcn_model_2 = fcn_resnet101(weights=None, weights_backbone=ResNet101_Weights.DEFAULT, num_classes=2)"
   ]
  }
 ],
 "metadata": {
  "kernelspec": {
   "display_name": "Python [conda env:yoloc] *",
   "language": "python",
   "name": "conda-env-yoloc-py"
  },
  "language_info": {
   "codemirror_mode": {
    "name": "ipython",
    "version": 3
   },
   "file_extension": ".py",
   "mimetype": "text/x-python",
   "name": "python",
   "nbconvert_exporter": "python",
   "pygments_lexer": "ipython3",
   "version": "3.10.4"
  }
 },
 "nbformat": 4,
 "nbformat_minor": 5
}
