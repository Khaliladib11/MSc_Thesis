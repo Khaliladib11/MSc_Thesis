{
 "cells": [
  {
   "cell_type": "code",
   "execution_count": 8,
   "id": "d7922dc4",
   "metadata": {},
   "outputs": [],
   "source": [
    "from torchvision.models.segmentation import deeplabv3_mobilenet_v3_large, deeplabv3_resnet50, deeplabv3_resnet101\n",
    "from torchvision.models.segmentation import DeepLabV3_ResNet50_Weights, DeepLabV3_ResNet101_Weights, DeepLabV3_MobileNet_V3_Large_Weights\n",
    "from torchvision.models import ResNet50_Weights, ResNet101_Weights, MobileNet_V3_Large_Weights"
   ]
  },
  {
   "cell_type": "code",
   "execution_count": 7,
   "id": "fa951986",
   "metadata": {},
   "outputs": [],
   "source": [
    "model = deeplabv3_mobilenet_v3_large(weights='DeepLabV3_MobileNet_V3_Large_Weights.DEFAULT')"
   ]
  }
 ],
 "metadata": {
  "kernelspec": {
   "display_name": "Python [conda env:yoloc] *",
   "language": "python",
   "name": "conda-env-yoloc-py"
  },
  "language_info": {
   "codemirror_mode": {
    "name": "ipython",
    "version": 3
   },
   "file_extension": ".py",
   "mimetype": "text/x-python",
   "name": "python",
   "nbconvert_exporter": "python",
   "pygments_lexer": "ipython3",
   "version": "3.10.4"
  }
 },
 "nbformat": 4,
 "nbformat_minor": 5
}
