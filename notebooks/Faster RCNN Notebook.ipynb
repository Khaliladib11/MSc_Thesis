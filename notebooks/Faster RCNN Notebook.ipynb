{
 "cells": [
  {
   "cell_type": "markdown",
   "id": "0d64fcce",
   "metadata": {},
   "source": [
    "# Faster RCNN Training Notebook"
   ]
  },
  {
   "cell_type": "markdown",
   "id": "410a6106",
   "metadata": {},
   "source": [
    "## Import Libraries"
   ]
  },
  {
   "cell_type": "code",
   "execution_count": 1,
   "id": "f3477ebb",
   "metadata": {},
   "outputs": [],
   "source": [
    "import os, sys\n",
    "BASE_DIR = os.path.dirname(os.path.dirname(os.path.abspath('__file__')))\n",
    "sys.path.append(BASE_DIR)\n",
    "\n",
    "from src.models.Detection.Faster_RCNN import Faster_RCNN\n",
    "from src.dataset.bdd_detetcion import BDDDetection\n",
    "from src.config.defaults import cfg\n",
    "from pytorch_lightning import Trainer\n",
    "from pytorch_lightning.profiler import SimpleProfiler\n",
    "from pytorch_lightning.utilities.model_summary import ModelSummary\n",
    "from pytorch_lightning.callbacks.early_stopping import EarlyStopping\n",
    "from pytorch_lightning.loggers import TensorBoardLogger\n",
    "from pytorch_lightning.callbacks import ModelCheckpoint\n",
    "\n",
    "from src.utils.DataLoaders import get_loader"
   ]
  },
  {
   "cell_type": "markdown",
   "id": "7c448e22",
   "metadata": {},
   "source": [
    "## Load Datasets and DataLoaders"
   ]
  },
  {
   "cell_type": "code",
   "execution_count": null,
   "id": "28f343cf",
   "metadata": {},
   "outputs": [],
   "source": [
    "obj_cls = ['__bgr__', 'pedestrian', 'motorcycle', 'car', 'bicycle']"
   ]
  },
  {
   "cell_type": "code",
   "execution_count": 2,
   "id": "a3bbfe2c",
   "metadata": {},
   "outputs": [
    {
     "name": "stderr",
     "output_type": "stream",
     "text": [
      "100%|██████████████████████████████████████████████████████████████████████████| 69863/69863 [00:09<00:00, 7029.43it/s]\n"
     ]
    }
   ],
   "source": [
    "bdd_train_params = {\n",
    "    'cfg': cfg,\n",
    "    'stage': 'train',\n",
    "    'obj_cls': obj_cls\n",
    "}\n",
    "\n",
    "bdd_train = BDDDetection(**bdd_train_params)"
   ]
  },
  {
   "cell_type": "code",
   "execution_count": 3,
   "id": "ca42ef67",
   "metadata": {},
   "outputs": [
    {
     "name": "stderr",
     "output_type": "stream",
     "text": [
      "100%|██████████████████████████████████████████████████████████████████████████| 69863/69863 [00:09<00:00, 7345.31it/s]\n"
     ]
    }
   ],
   "source": [
    "bdd_val_params = {\n",
    "    'cfg': cfg,\n",
    "    'stage': 'val',\n",
    "    'obj_cls': obj_cls\n",
    "}\n",
    "\n",
    "bdd_val = BDDDetection(**bdd_val_params)"
   ]
  },
  {
   "cell_type": "code",
   "execution_count": 4,
   "id": "8bb4b5be",
   "metadata": {},
   "outputs": [],
   "source": [
    "train_dataloader_args = {\n",
    "    'dataset': bdd_train,\n",
    "    'batch_size': 32,\n",
    "    'shuffle': True,\n",
    "    'collate_fn': bdd_train.collate_fn\n",
    "}\n",
    "train_dataloader = get_loader(**train_dataloader_args)\n",
    "\n",
    "val_dataloader_args = {\n",
    "    'dataset': bdd_val,\n",
    "    'batch_size': 32,\n",
    "    'shuffle': False,\n",
    "    'collate_fn': bdd_train.collate_fn\n",
    "}\n",
    "val_dataloader = get_loader(**val_dataloader_args)"
   ]
  },
  {
   "cell_type": "markdown",
   "id": "f67ac1db",
   "metadata": {},
   "source": [
    "## Load Faster RCNN Model"
   ]
  },
  {
   "cell_type": "code",
   "execution_count": 15,
   "id": "0c48e296",
   "metadata": {},
   "outputs": [
    {
     "name": "stderr",
     "output_type": "stream",
     "text": [
      "C:\\Users\\Khaliladib\\anaconda3\\envs\\yoloc\\lib\\site-packages\\torchvision\\models\\_utils.py:135: UserWarning: Using 'backbone_name' and 'weights' as positional parameter(s) is deprecated since 0.13 and will be removed in 0.15. Please use keyword parameter(s) instead.\n",
      "  warnings.warn(\n",
      "C:\\Users\\Khaliladib\\anaconda3\\envs\\yoloc\\lib\\site-packages\\torchvision\\models\\_utils.py:223: UserWarning: Arguments other than a weight enum or `None` for 'weights' are deprecated since 0.13 and will be removed in 0.15. The current behavior is equivalent to passing `weights=ResNet101_Weights.IMAGENET1K_V1`. You can also use `weights=ResNet101_Weights.DEFAULT` to get the most up-to-date weights.\n",
      "  warnings.warn(msg)\n"
     ]
    }
   ],
   "source": [
    "faster_rcnn_params = {\n",
    "    'cfg': cfg,\n",
    "    'num_classes': len(bdd_train.cls_to_idx),\n",
    "    'backbone': 'resnet101',\n",
    "    'learning_rate': 1e-5,\n",
    "    'weight_decay': 1e-3,\n",
    "    'pretrained': True,\n",
    "    'pretrained_backbone': True,\n",
    "    'checkpoint_path': None,\n",
    "    'train_loader': train_dataloader,\n",
    "    'val_loader': val_dataloader\n",
    "}\n",
    "model = Faster_RCNN(**faster_rcnn_params)"
   ]
  },
  {
   "cell_type": "markdown",
   "id": "440fb80a",
   "metadata": {},
   "source": [
    "## Model Summary"
   ]
  },
  {
   "cell_type": "code",
   "execution_count": null,
   "id": "acf4aa66",
   "metadata": {},
   "outputs": [],
   "source": [
    "ModelSummary(model, max_depth=-1)  "
   ]
  },
  {
   "cell_type": "markdown",
   "id": "067a434d",
   "metadata": {},
   "source": [
    "## Training Section"
   ]
  },
  {
   "cell_type": "code",
   "execution_count": null,
   "id": "2a72a770",
   "metadata": {},
   "outputs": [],
   "source": [
    "profiler = SimpleProfiler()\n",
    "early_stop_callback = EarlyStopping(monitor=\"val_loss\", patience=5, verbose=False, mode=\"min\")\n",
    "checkpoint_callback = ModelCheckpoint(monitor=\"val_loss\", mode='min')"
   ]
  },
  {
   "cell_type": "code",
   "execution_count": null,
   "id": "4fcd1d77",
   "metadata": {},
   "outputs": [],
   "source": [
    "#trainer = Trainer(auto_lr_find=True, limit_train_batches=0.0001, limit_val_batches=0.01, profiler=profiler)"
   ]
  },
  {
   "cell_type": "code",
   "execution_count": null,
   "id": "5091acb8",
   "metadata": {},
   "outputs": [],
   "source": [
    "trainer = Trainer(auto_lr_find=True, profiler=profiler, callbacks=[early_stop_callback, checkpoint_callback])"
   ]
  },
  {
   "cell_type": "code",
   "execution_count": null,
   "id": "f5d1a623",
   "metadata": {},
   "outputs": [],
   "source": [
    "trainer.tune(model)"
   ]
  },
  {
   "cell_type": "code",
   "execution_count": null,
   "id": "938fee9d",
   "metadata": {},
   "outputs": [],
   "source": []
  },
  {
   "cell_type": "code",
   "execution_count": null,
   "id": "238f1cd5",
   "metadata": {},
   "outputs": [],
   "source": [
    "trainer.fit(model)"
   ]
  }
 ],
 "metadata": {
  "kernelspec": {
   "display_name": "Python [conda env:yoloc] *",
   "language": "python",
   "name": "conda-env-yoloc-py"
  },
  "language_info": {
   "codemirror_mode": {
    "name": "ipython",
    "version": 3
   },
   "file_extension": ".py",
   "mimetype": "text/x-python",
   "name": "python",
   "nbconvert_exporter": "python",
   "pygments_lexer": "ipython3",
   "version": "3.10.4"
  }
 },
 "nbformat": 4,
 "nbformat_minor": 5
}
