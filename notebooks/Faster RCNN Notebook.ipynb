{
 "cells": [
  {
   "cell_type": "code",
   "execution_count": 2,
   "id": "f3477ebb",
   "metadata": {},
   "outputs": [],
   "source": [
    "import os, sys\n",
    "BASE_DIR = os.path.dirname(os.path.dirname(os.path.abspath('__file__')))\n",
    "sys.path.append(BASE_DIR)\n",
    "\n",
    "from src.models.Detection.Faster_RCNN import Faster_RCNN\n",
    "from src.dataset.bdd_detetcion import BDD_Detection\n",
    "from src.config.defaults import cfg\n",
    "from pytorch_lightning import Trainer\n",
    "\n",
    "from src.utils.DataLoaders import get_loader"
   ]
  },
  {
   "cell_type": "code",
   "execution_count": 3,
   "id": "a3bbfe2c",
   "metadata": {},
   "outputs": [
    {
     "name": "stderr",
     "output_type": "stream",
     "text": [
      "100%|██████████████████████████████████████████████████████████████████████████| 69863/69863 [00:07<00:00, 9672.24it/s]\n"
     ]
    }
   ],
   "source": [
    "bdd_train_params = {\n",
    "    'cfg': cfg,\n",
    "    'stage': 'train'\n",
    "}\n",
    "\n",
    "bdd_train = BDD_Detection(**bdd_train_params)"
   ]
  },
  {
   "cell_type": "code",
   "execution_count": 4,
   "id": "89ef1e75",
   "metadata": {},
   "outputs": [
    {
     "name": "stderr",
     "output_type": "stream",
     "text": [
      "100%|█████████████████████████████████████████████████████████████████████████| 69863/69863 [00:06<00:00, 11528.73it/s]\n"
     ]
    }
   ],
   "source": [
    "bdd_val_params = {\n",
    "    'cfg': cfg,\n",
    "    'stage': 'val'\n",
    "}\n",
    "\n",
    "bdd_val = BDD_Detection(**bdd_val_params)"
   ]
  },
  {
   "cell_type": "code",
   "execution_count": 5,
   "id": "618f9d51",
   "metadata": {},
   "outputs": [
    {
     "ename": "NameError",
     "evalue": "name 'torch' is not defined",
     "output_type": "error",
     "traceback": [
      "\u001b[1;31m---------------------------------------------------------------------------\u001b[0m",
      "\u001b[1;31mNameError\u001b[0m                                 Traceback (most recent call last)",
      "Input \u001b[1;32mIn [5]\u001b[0m, in \u001b[0;36m<cell line: 1>\u001b[1;34m()\u001b[0m\n\u001b[1;32m----> 1\u001b[0m train_dataloader_args \u001b[38;5;241m=\u001b[39m {\u001b[38;5;124m'\u001b[39m\u001b[38;5;124mbatch_size\u001b[39m\u001b[38;5;124m'\u001b[39m:\u001b[38;5;241m64\u001b[39m, \u001b[38;5;124m'\u001b[39m\u001b[38;5;124mshuffle\u001b[39m\u001b[38;5;124m'\u001b[39m:\u001b[38;5;28;01mFalse\u001b[39;00m, \u001b[38;5;124m'\u001b[39m\u001b[38;5;124mdrop_last\u001b[39m\u001b[38;5;124m'\u001b[39m:\u001b[38;5;28;01mTrue\u001b[39;00m, \u001b[38;5;124m'\u001b[39m\u001b[38;5;124mcollate_fn\u001b[39m\u001b[38;5;124m'\u001b[39m: \u001b[43mtorch\u001b[49m\u001b[38;5;241m.\u001b[39mutils\u001b[38;5;241m.\u001b[39mcollate_fn}\n\u001b[0;32m      2\u001b[0m train_dataloader \u001b[38;5;241m=\u001b[39m data\u001b[38;5;241m.\u001b[39mDataLoader(bdd_train, \u001b[38;5;241m*\u001b[39m\u001b[38;5;241m*\u001b[39mtrain_dataloader_args)\n\u001b[0;32m      4\u001b[0m val_dataloader_args \u001b[38;5;241m=\u001b[39m {\u001b[38;5;124m'\u001b[39m\u001b[38;5;124mbatch_size\u001b[39m\u001b[38;5;124m'\u001b[39m:\u001b[38;5;241m1\u001b[39m, \u001b[38;5;124m'\u001b[39m\u001b[38;5;124mshuffle\u001b[39m\u001b[38;5;124m'\u001b[39m:\u001b[38;5;28;01mFalse\u001b[39;00m}\n",
      "\u001b[1;31mNameError\u001b[0m: name 'torch' is not defined"
     ]
    }
   ],
   "source": [
    "train_dataloader_args = {\n",
    "    'dataset': bdd_train,\n",
    "    'batch_size': 32,\n",
    "    'shuffle': True,\n",
    "}\n",
    "train_dataloader = get_loader(bdd_train, **train_dataloader_args)\n",
    "\n",
    "val_dataloader_args = {'batch_size':1, 'shuffle':False}\n",
    "val_dataloader = data.DataLoader(bdd_val, **val_dataloader_args)"
   ]
  },
  {
   "cell_type": "code",
   "execution_count": 5,
   "id": "4ee60bc4",
   "metadata": {},
   "outputs": [
    {
     "name": "stderr",
     "output_type": "stream",
     "text": [
      "C:\\Users\\Khaliladib\\anaconda3\\envs\\yoloc\\lib\\site-packages\\torchvision\\models\\_utils.py:135: UserWarning: Using 'backbone_name' and 'weights' as positional parameter(s) is deprecated since 0.13 and will be removed in 0.15. Please use keyword parameter(s) instead.\n",
      "  warnings.warn(\n",
      "C:\\Users\\Khaliladib\\anaconda3\\envs\\yoloc\\lib\\site-packages\\torchvision\\models\\_utils.py:223: UserWarning: Arguments other than a weight enum or `None` for 'weights' are deprecated since 0.13 and will be removed in 0.15. The current behavior is equivalent to passing `weights=ResNet101_Weights.IMAGENET1K_V1`. You can also use `weights=ResNet101_Weights.DEFAULT` to get the most up-to-date weights.\n",
      "  warnings.warn(msg)\n"
     ]
    }
   ],
   "source": [
    "faster_rcnn_params = {\n",
    "    'cfg': cfg,\n",
    "    'num_classes': 7,\n",
    "    'backbone': 'resnet101',\n",
    "    'learning_rate': 1e-5,\n",
    "    'weight_decay': 1e-3,\n",
    "    'pretrained': True,\n",
    "    'pretrained_backbone': True,\n",
    "    'checkpoint_path': None,\n",
    "}\n",
    "model = Faster_RCNN(**faster_rcnn_params)"
   ]
  }
 ],
 "metadata": {
  "kernelspec": {
   "display_name": "Python [conda env:yoloc] *",
   "language": "python",
   "name": "conda-env-yoloc-py"
  },
  "language_info": {
   "codemirror_mode": {
    "name": "ipython",
    "version": 3
   },
   "file_extension": ".py",
   "mimetype": "text/x-python",
   "name": "python",
   "nbconvert_exporter": "python",
   "pygments_lexer": "ipython3",
   "version": "3.10.4"
  }
 },
 "nbformat": 4,
 "nbformat_minor": 5
}
