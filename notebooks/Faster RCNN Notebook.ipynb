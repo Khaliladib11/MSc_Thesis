{
 "cells": [
  {
   "cell_type": "markdown",
   "id": "0d64fcce",
   "metadata": {},
   "source": [
    "# Faster RCNN Training Notebook"
   ]
  },
  {
   "cell_type": "markdown",
   "id": "410a6106",
   "metadata": {},
   "source": [
    "## Import Libraries"
   ]
  },
  {
   "cell_type": "code",
   "execution_count": 1,
   "id": "f3477ebb",
   "metadata": {},
   "outputs": [],
   "source": [
    "import os, sys\n",
    "BASE_DIR = os.path.dirname(os.path.dirname(os.path.abspath('__file__')))\n",
    "sys.path.append(BASE_DIR)\n",
    "\n",
    "from src.models.Detection.Faster_RCNN import Faster_RCNN\n",
    "from src.dataset.bdd_detetcion import BDDDetection\n",
    "from src.config.defaults import cfg\n",
    "from pytorch_lightning import Trainer\n",
    "from pytorch_lightning.profiler import SimpleProfiler\n",
    "from pytorch_lightning.utilities.model_summary import ModelSummary\n",
    "from pytorch_lightning.callbacks.early_stopping import EarlyStopping\n",
    "from pytorch_lightning.loggers import TensorBoardLogger\n",
    "from pytorch_lightning.callbacks import ModelCheckpoint\n",
    "\n",
    "from src.utils.DataLoaders import get_loader"
   ]
  },
  {
   "cell_type": "markdown",
   "id": "7c448e22",
   "metadata": {},
   "source": [
    "## Load Datasets and DataLoaders"
   ]
  },
  {
   "cell_type": "code",
   "execution_count": 2,
   "id": "28f343cf",
   "metadata": {},
   "outputs": [],
   "source": [
    "obj_cls = ['__bgr__', 'pedestrian', 'car', 'rider', 'bicycle', 'motorcycle', 'truck', 'bus']\n",
    "cfg.DATASET.ROOT = 'BDD100K'\n",
    "cfg.DATASET.IMAGE_ROOT = 'images/bdd100k/images/100k'"
   ]
  },
  {
   "cell_type": "code",
   "execution_count": 3,
   "id": "a3bbfe2c",
   "metadata": {},
   "outputs": [
    {
     "name": "stderr",
     "output_type": "stream",
     "text": [
      "100%|█████████████████████████████████████████████████████████████████████████| 69863/69863 [00:03<00:00, 20083.20it/s]\n"
     ]
    }
   ],
   "source": [
    "bdd_train_params = {\n",
    "    'cfg': cfg,\n",
    "    'stage': 'train',\n",
    "    'relative_path': '../..',\n",
    "    'obj_cls': obj_cls\n",
    "}\n",
    "\n",
    "bdd_train = BDDDetection(**bdd_train_params)"
   ]
  },
  {
   "cell_type": "code",
   "execution_count": 4,
   "id": "ca42ef67",
   "metadata": {},
   "outputs": [
    {
     "name": "stderr",
     "output_type": "stream",
     "text": [
      "100%|█████████████████████████████████████████████████████████████████████████| 69863/69863 [00:04<00:00, 17451.46it/s]\n"
     ]
    }
   ],
   "source": [
    "bdd_val_params = {\n",
    "    'cfg': cfg,\n",
    "    'stage': 'val',\n",
    "    'relative_path': '../..',\n",
    "    'obj_cls': obj_cls\n",
    "}\n",
    "\n",
    "bdd_val = BDDDetection(**bdd_val_params)"
   ]
  },
  {
   "cell_type": "code",
   "execution_count": 5,
   "id": "8bb4b5be",
   "metadata": {},
   "outputs": [
    {
     "data": {
      "text/plain": [
       "\"\\ntrain_dataloader_args = {\\n    'dataset': bdd_train,\\n    'batch_size': 1,\\n    'shuffle': True,\\n    'collate_fn': bdd_train.collate_fn\\n}\\ntrain_dataloader = get_loader(**train_dataloader_args)\\n\\nval_dataloader_args = {\\n    'dataset': bdd_val,\\n    'batch_size': 1,\\n    'shuffle': False,\\n    'collate_fn': bdd_train.collate_fn\\n}\\nval_dataloader = get_loader(**val_dataloader_args)\\n\""
      ]
     },
     "execution_count": 5,
     "metadata": {},
     "output_type": "execute_result"
    }
   ],
   "source": [
    "\"\"\"\n",
    "train_dataloader_args = {\n",
    "    'dataset': bdd_train,\n",
    "    'batch_size': 1,\n",
    "    'shuffle': True,\n",
    "    'collate_fn': bdd_train.collate_fn\n",
    "}\n",
    "train_dataloader = get_loader(**train_dataloader_args)\n",
    "\n",
    "val_dataloader_args = {\n",
    "    'dataset': bdd_val,\n",
    "    'batch_size': 1,\n",
    "    'shuffle': False,\n",
    "    'collate_fn': bdd_train.collate_fn\n",
    "}\n",
    "val_dataloader = get_loader(**val_dataloader_args)\n",
    "\"\"\""
   ]
  },
  {
   "cell_type": "markdown",
   "id": "f67ac1db",
   "metadata": {},
   "source": [
    "## Load Faster RCNN Model"
   ]
  },
  {
   "cell_type": "code",
   "execution_count": 6,
   "id": "0c48e296",
   "metadata": {},
   "outputs": [],
   "source": [
    "faster_rcnn_params = {\n",
    "    'cfg': cfg,\n",
    "    'num_classes': len(bdd_train.cls_to_idx),\n",
    "    'backbone': 'resnet50',\n",
    "    'learning_rate': 1e-5,\n",
    "    'weight_decay': 1e-3,\n",
    "    'pretrained': True,\n",
    "    'pretrained_backbone': True,\n",
    "    'checkpoint_path': None,\n",
    "    'train_dataset': bdd_train,\n",
    "    'val_dataset': bdd_val,\n",
    "    'batch_size': 1,\n",
    "    'num_workers': 6\n",
    "}\n",
    "model = Faster_RCNN(**faster_rcnn_params)"
   ]
  },
  {
   "cell_type": "markdown",
   "id": "440fb80a",
   "metadata": {},
   "source": [
    "## Model Summary"
   ]
  },
  {
   "cell_type": "code",
   "execution_count": 7,
   "id": "acf4aa66",
   "metadata": {},
   "outputs": [
    {
     "data": {
      "text/plain": [
       "    | Name                                      | Type                     | Params\n",
       "-----------------------------------------------------------------------------------------\n",
       "0   | metric                                    | MeanAveragePrecision     | 0     \n",
       "1   | model                                     | FasterRCNN               | 43.3 M\n",
       "2   | model.transform                           | GeneralizedRCNNTransform | 0     \n",
       "3   | model.backbone                            | BackboneWithFPN          | 26.9 M\n",
       "4   | model.backbone.body                       | IntermediateLayerGetter  | 23.5 M\n",
       "5   | model.backbone.body.conv1                 | Conv2d                   | 9.4 K \n",
       "6   | model.backbone.body.bn1                   | BatchNorm2d              | 128   \n",
       "7   | model.backbone.body.relu                  | ReLU                     | 0     \n",
       "8   | model.backbone.body.maxpool               | MaxPool2d                | 0     \n",
       "9   | model.backbone.body.layer1                | Sequential               | 215 K \n",
       "10  | model.backbone.body.layer1.0              | Bottleneck               | 75.0 K\n",
       "11  | model.backbone.body.layer1.0.conv1        | Conv2d                   | 4.1 K \n",
       "12  | model.backbone.body.layer1.0.bn1          | BatchNorm2d              | 128   \n",
       "13  | model.backbone.body.layer1.0.conv2        | Conv2d                   | 36.9 K\n",
       "14  | model.backbone.body.layer1.0.bn2          | BatchNorm2d              | 128   \n",
       "15  | model.backbone.body.layer1.0.conv3        | Conv2d                   | 16.4 K\n",
       "16  | model.backbone.body.layer1.0.bn3          | BatchNorm2d              | 512   \n",
       "17  | model.backbone.body.layer1.0.relu         | ReLU                     | 0     \n",
       "18  | model.backbone.body.layer1.0.downsample   | Sequential               | 16.9 K\n",
       "19  | model.backbone.body.layer1.0.downsample.0 | Conv2d                   | 16.4 K\n",
       "20  | model.backbone.body.layer1.0.downsample.1 | BatchNorm2d              | 512   \n",
       "21  | model.backbone.body.layer1.1              | Bottleneck               | 70.4 K\n",
       "22  | model.backbone.body.layer1.1.conv1        | Conv2d                   | 16.4 K\n",
       "23  | model.backbone.body.layer1.1.bn1          | BatchNorm2d              | 128   \n",
       "24  | model.backbone.body.layer1.1.conv2        | Conv2d                   | 36.9 K\n",
       "25  | model.backbone.body.layer1.1.bn2          | BatchNorm2d              | 128   \n",
       "26  | model.backbone.body.layer1.1.conv3        | Conv2d                   | 16.4 K\n",
       "27  | model.backbone.body.layer1.1.bn3          | BatchNorm2d              | 512   \n",
       "28  | model.backbone.body.layer1.1.relu         | ReLU                     | 0     \n",
       "29  | model.backbone.body.layer1.2              | Bottleneck               | 70.4 K\n",
       "30  | model.backbone.body.layer1.2.conv1        | Conv2d                   | 16.4 K\n",
       "31  | model.backbone.body.layer1.2.bn1          | BatchNorm2d              | 128   \n",
       "32  | model.backbone.body.layer1.2.conv2        | Conv2d                   | 36.9 K\n",
       "33  | model.backbone.body.layer1.2.bn2          | BatchNorm2d              | 128   \n",
       "34  | model.backbone.body.layer1.2.conv3        | Conv2d                   | 16.4 K\n",
       "35  | model.backbone.body.layer1.2.bn3          | BatchNorm2d              | 512   \n",
       "36  | model.backbone.body.layer1.2.relu         | ReLU                     | 0     \n",
       "37  | model.backbone.body.layer2                | Sequential               | 1.2 M \n",
       "38  | model.backbone.body.layer2.0              | Bottleneck               | 379 K \n",
       "39  | model.backbone.body.layer2.0.conv1        | Conv2d                   | 32.8 K\n",
       "40  | model.backbone.body.layer2.0.bn1          | BatchNorm2d              | 256   \n",
       "41  | model.backbone.body.layer2.0.conv2        | Conv2d                   | 147 K \n",
       "42  | model.backbone.body.layer2.0.bn2          | BatchNorm2d              | 256   \n",
       "43  | model.backbone.body.layer2.0.conv3        | Conv2d                   | 65.5 K\n",
       "44  | model.backbone.body.layer2.0.bn3          | BatchNorm2d              | 1.0 K \n",
       "45  | model.backbone.body.layer2.0.relu         | ReLU                     | 0     \n",
       "46  | model.backbone.body.layer2.0.downsample   | Sequential               | 132 K \n",
       "47  | model.backbone.body.layer2.0.downsample.0 | Conv2d                   | 131 K \n",
       "48  | model.backbone.body.layer2.0.downsample.1 | BatchNorm2d              | 1.0 K \n",
       "49  | model.backbone.body.layer2.1              | Bottleneck               | 280 K \n",
       "50  | model.backbone.body.layer2.1.conv1        | Conv2d                   | 65.5 K\n",
       "51  | model.backbone.body.layer2.1.bn1          | BatchNorm2d              | 256   \n",
       "52  | model.backbone.body.layer2.1.conv2        | Conv2d                   | 147 K \n",
       "53  | model.backbone.body.layer2.1.bn2          | BatchNorm2d              | 256   \n",
       "54  | model.backbone.body.layer2.1.conv3        | Conv2d                   | 65.5 K\n",
       "55  | model.backbone.body.layer2.1.bn3          | BatchNorm2d              | 1.0 K \n",
       "56  | model.backbone.body.layer2.1.relu         | ReLU                     | 0     \n",
       "57  | model.backbone.body.layer2.2              | Bottleneck               | 280 K \n",
       "58  | model.backbone.body.layer2.2.conv1        | Conv2d                   | 65.5 K\n",
       "59  | model.backbone.body.layer2.2.bn1          | BatchNorm2d              | 256   \n",
       "60  | model.backbone.body.layer2.2.conv2        | Conv2d                   | 147 K \n",
       "61  | model.backbone.body.layer2.2.bn2          | BatchNorm2d              | 256   \n",
       "62  | model.backbone.body.layer2.2.conv3        | Conv2d                   | 65.5 K\n",
       "63  | model.backbone.body.layer2.2.bn3          | BatchNorm2d              | 1.0 K \n",
       "64  | model.backbone.body.layer2.2.relu         | ReLU                     | 0     \n",
       "65  | model.backbone.body.layer2.3              | Bottleneck               | 280 K \n",
       "66  | model.backbone.body.layer2.3.conv1        | Conv2d                   | 65.5 K\n",
       "67  | model.backbone.body.layer2.3.bn1          | BatchNorm2d              | 256   \n",
       "68  | model.backbone.body.layer2.3.conv2        | Conv2d                   | 147 K \n",
       "69  | model.backbone.body.layer2.3.bn2          | BatchNorm2d              | 256   \n",
       "70  | model.backbone.body.layer2.3.conv3        | Conv2d                   | 65.5 K\n",
       "71  | model.backbone.body.layer2.3.bn3          | BatchNorm2d              | 1.0 K \n",
       "72  | model.backbone.body.layer2.3.relu         | ReLU                     | 0     \n",
       "73  | model.backbone.body.layer3                | Sequential               | 7.1 M \n",
       "74  | model.backbone.body.layer3.0              | Bottleneck               | 1.5 M \n",
       "75  | model.backbone.body.layer3.0.conv1        | Conv2d                   | 131 K \n",
       "76  | model.backbone.body.layer3.0.bn1          | BatchNorm2d              | 512   \n",
       "77  | model.backbone.body.layer3.0.conv2        | Conv2d                   | 589 K \n",
       "78  | model.backbone.body.layer3.0.bn2          | BatchNorm2d              | 512   \n",
       "79  | model.backbone.body.layer3.0.conv3        | Conv2d                   | 262 K \n",
       "80  | model.backbone.body.layer3.0.bn3          | BatchNorm2d              | 2.0 K \n",
       "81  | model.backbone.body.layer3.0.relu         | ReLU                     | 0     \n",
       "82  | model.backbone.body.layer3.0.downsample   | Sequential               | 526 K \n",
       "83  | model.backbone.body.layer3.0.downsample.0 | Conv2d                   | 524 K \n",
       "84  | model.backbone.body.layer3.0.downsample.1 | BatchNorm2d              | 2.0 K \n",
       "85  | model.backbone.body.layer3.1              | Bottleneck               | 1.1 M \n",
       "86  | model.backbone.body.layer3.1.conv1        | Conv2d                   | 262 K \n",
       "87  | model.backbone.body.layer3.1.bn1          | BatchNorm2d              | 512   \n",
       "88  | model.backbone.body.layer3.1.conv2        | Conv2d                   | 589 K \n",
       "89  | model.backbone.body.layer3.1.bn2          | BatchNorm2d              | 512   \n",
       "90  | model.backbone.body.layer3.1.conv3        | Conv2d                   | 262 K \n",
       "91  | model.backbone.body.layer3.1.bn3          | BatchNorm2d              | 2.0 K \n",
       "92  | model.backbone.body.layer3.1.relu         | ReLU                     | 0     \n",
       "93  | model.backbone.body.layer3.2              | Bottleneck               | 1.1 M \n",
       "94  | model.backbone.body.layer3.2.conv1        | Conv2d                   | 262 K \n",
       "95  | model.backbone.body.layer3.2.bn1          | BatchNorm2d              | 512   \n",
       "96  | model.backbone.body.layer3.2.conv2        | Conv2d                   | 589 K \n",
       "97  | model.backbone.body.layer3.2.bn2          | BatchNorm2d              | 512   \n",
       "98  | model.backbone.body.layer3.2.conv3        | Conv2d                   | 262 K \n",
       "99  | model.backbone.body.layer3.2.bn3          | BatchNorm2d              | 2.0 K \n",
       "100 | model.backbone.body.layer3.2.relu         | ReLU                     | 0     \n",
       "101 | model.backbone.body.layer3.3              | Bottleneck               | 1.1 M \n",
       "102 | model.backbone.body.layer3.3.conv1        | Conv2d                   | 262 K \n",
       "103 | model.backbone.body.layer3.3.bn1          | BatchNorm2d              | 512   \n",
       "104 | model.backbone.body.layer3.3.conv2        | Conv2d                   | 589 K \n",
       "105 | model.backbone.body.layer3.3.bn2          | BatchNorm2d              | 512   \n",
       "106 | model.backbone.body.layer3.3.conv3        | Conv2d                   | 262 K \n",
       "107 | model.backbone.body.layer3.3.bn3          | BatchNorm2d              | 2.0 K \n",
       "108 | model.backbone.body.layer3.3.relu         | ReLU                     | 0     \n",
       "109 | model.backbone.body.layer3.4              | Bottleneck               | 1.1 M \n",
       "110 | model.backbone.body.layer3.4.conv1        | Conv2d                   | 262 K \n",
       "111 | model.backbone.body.layer3.4.bn1          | BatchNorm2d              | 512   \n",
       "112 | model.backbone.body.layer3.4.conv2        | Conv2d                   | 589 K \n",
       "113 | model.backbone.body.layer3.4.bn2          | BatchNorm2d              | 512   \n",
       "114 | model.backbone.body.layer3.4.conv3        | Conv2d                   | 262 K \n",
       "115 | model.backbone.body.layer3.4.bn3          | BatchNorm2d              | 2.0 K \n",
       "116 | model.backbone.body.layer3.4.relu         | ReLU                     | 0     \n",
       "117 | model.backbone.body.layer3.5              | Bottleneck               | 1.1 M \n",
       "118 | model.backbone.body.layer3.5.conv1        | Conv2d                   | 262 K \n",
       "119 | model.backbone.body.layer3.5.bn1          | BatchNorm2d              | 512   \n",
       "120 | model.backbone.body.layer3.5.conv2        | Conv2d                   | 589 K \n",
       "121 | model.backbone.body.layer3.5.bn2          | BatchNorm2d              | 512   \n",
       "122 | model.backbone.body.layer3.5.conv3        | Conv2d                   | 262 K \n",
       "123 | model.backbone.body.layer3.5.bn3          | BatchNorm2d              | 2.0 K \n",
       "124 | model.backbone.body.layer3.5.relu         | ReLU                     | 0     \n",
       "125 | model.backbone.body.layer4                | Sequential               | 15.0 M\n",
       "126 | model.backbone.body.layer4.0              | Bottleneck               | 6.0 M \n",
       "127 | model.backbone.body.layer4.0.conv1        | Conv2d                   | 524 K \n",
       "128 | model.backbone.body.layer4.0.bn1          | BatchNorm2d              | 1.0 K \n",
       "129 | model.backbone.body.layer4.0.conv2        | Conv2d                   | 2.4 M \n",
       "130 | model.backbone.body.layer4.0.bn2          | BatchNorm2d              | 1.0 K \n",
       "131 | model.backbone.body.layer4.0.conv3        | Conv2d                   | 1.0 M \n",
       "132 | model.backbone.body.layer4.0.bn3          | BatchNorm2d              | 4.1 K \n",
       "133 | model.backbone.body.layer4.0.relu         | ReLU                     | 0     \n",
       "134 | model.backbone.body.layer4.0.downsample   | Sequential               | 2.1 M \n",
       "135 | model.backbone.body.layer4.0.downsample.0 | Conv2d                   | 2.1 M \n",
       "136 | model.backbone.body.layer4.0.downsample.1 | BatchNorm2d              | 4.1 K \n",
       "137 | model.backbone.body.layer4.1              | Bottleneck               | 4.5 M \n",
       "138 | model.backbone.body.layer4.1.conv1        | Conv2d                   | 1.0 M \n",
       "139 | model.backbone.body.layer4.1.bn1          | BatchNorm2d              | 1.0 K \n",
       "140 | model.backbone.body.layer4.1.conv2        | Conv2d                   | 2.4 M \n",
       "141 | model.backbone.body.layer4.1.bn2          | BatchNorm2d              | 1.0 K \n",
       "142 | model.backbone.body.layer4.1.conv3        | Conv2d                   | 1.0 M \n",
       "143 | model.backbone.body.layer4.1.bn3          | BatchNorm2d              | 4.1 K \n",
       "144 | model.backbone.body.layer4.1.relu         | ReLU                     | 0     \n",
       "145 | model.backbone.body.layer4.2              | Bottleneck               | 4.5 M \n",
       "146 | model.backbone.body.layer4.2.conv1        | Conv2d                   | 1.0 M \n",
       "147 | model.backbone.body.layer4.2.bn1          | BatchNorm2d              | 1.0 K \n",
       "148 | model.backbone.body.layer4.2.conv2        | Conv2d                   | 2.4 M \n",
       "149 | model.backbone.body.layer4.2.bn2          | BatchNorm2d              | 1.0 K \n",
       "150 | model.backbone.body.layer4.2.conv3        | Conv2d                   | 1.0 M \n",
       "151 | model.backbone.body.layer4.2.bn3          | BatchNorm2d              | 4.1 K \n",
       "152 | model.backbone.body.layer4.2.relu         | ReLU                     | 0     \n",
       "153 | model.backbone.fpn                        | FeaturePyramidNetwork    | 3.3 M \n",
       "154 | model.backbone.fpn.inner_blocks           | ModuleList               | 985 K \n",
       "155 | model.backbone.fpn.inner_blocks.0         | Conv2dNormActivation     | 66.0 K\n",
       "156 | model.backbone.fpn.inner_blocks.0.0       | Conv2d                   | 65.5 K\n",
       "157 | model.backbone.fpn.inner_blocks.0.1       | BatchNorm2d              | 512   \n",
       "158 | model.backbone.fpn.inner_blocks.1         | Conv2dNormActivation     | 131 K \n",
       "159 | model.backbone.fpn.inner_blocks.1.0       | Conv2d                   | 131 K \n",
       "160 | model.backbone.fpn.inner_blocks.1.1       | BatchNorm2d              | 512   \n",
       "161 | model.backbone.fpn.inner_blocks.2         | Conv2dNormActivation     | 262 K \n",
       "162 | model.backbone.fpn.inner_blocks.2.0       | Conv2d                   | 262 K \n",
       "163 | model.backbone.fpn.inner_blocks.2.1       | BatchNorm2d              | 512   \n",
       "164 | model.backbone.fpn.inner_blocks.3         | Conv2dNormActivation     | 524 K \n",
       "165 | model.backbone.fpn.inner_blocks.3.0       | Conv2d                   | 524 K \n",
       "166 | model.backbone.fpn.inner_blocks.3.1       | BatchNorm2d              | 512   \n",
       "167 | model.backbone.fpn.layer_blocks           | ModuleList               | 2.4 M \n",
       "168 | model.backbone.fpn.layer_blocks.0         | Conv2dNormActivation     | 590 K \n",
       "169 | model.backbone.fpn.layer_blocks.0.0       | Conv2d                   | 589 K \n",
       "170 | model.backbone.fpn.layer_blocks.0.1       | BatchNorm2d              | 512   \n",
       "171 | model.backbone.fpn.layer_blocks.1         | Conv2dNormActivation     | 590 K \n",
       "172 | model.backbone.fpn.layer_blocks.1.0       | Conv2d                   | 589 K \n",
       "173 | model.backbone.fpn.layer_blocks.1.1       | BatchNorm2d              | 512   \n",
       "174 | model.backbone.fpn.layer_blocks.2         | Conv2dNormActivation     | 590 K \n",
       "175 | model.backbone.fpn.layer_blocks.2.0       | Conv2d                   | 589 K \n",
       "176 | model.backbone.fpn.layer_blocks.2.1       | BatchNorm2d              | 512   \n",
       "177 | model.backbone.fpn.layer_blocks.3         | Conv2dNormActivation     | 590 K \n",
       "178 | model.backbone.fpn.layer_blocks.3.0       | Conv2d                   | 589 K \n",
       "179 | model.backbone.fpn.layer_blocks.3.1       | BatchNorm2d              | 512   \n",
       "180 | model.backbone.fpn.extra_blocks           | LastLevelMaxPool         | 0     \n",
       "181 | model.rpn                                 | RegionProposalNetwork    | 1.2 M \n",
       "182 | model.rpn.anchor_generator                | AnchorGenerator          | 0     \n",
       "183 | model.rpn.head                            | RPNHead                  | 1.2 M \n",
       "184 | model.rpn.head.conv                       | Sequential               | 1.2 M \n",
       "185 | model.rpn.head.conv.0                     | Conv2dNormActivation     | 590 K \n",
       "186 | model.rpn.head.conv.0.0                   | Conv2d                   | 590 K \n",
       "187 | model.rpn.head.conv.0.1                   | ReLU                     | 0     \n",
       "188 | model.rpn.head.conv.1                     | Conv2dNormActivation     | 590 K \n",
       "189 | model.rpn.head.conv.1.0                   | Conv2d                   | 590 K \n",
       "190 | model.rpn.head.conv.1.1                   | ReLU                     | 0     \n",
       "191 | model.rpn.head.cls_logits                 | Conv2d                   | 771   \n",
       "192 | model.rpn.head.bbox_pred                  | Conv2d                   | 3.1 K \n",
       "193 | model.roi_heads                           | RoIHeads                 | 15.2 M\n",
       "194 | model.roi_heads.box_roi_pool              | MultiScaleRoIAlign       | 0     \n",
       "195 | model.roi_heads.box_head                  | FastRCNNConvFCHead       | 15.2 M\n",
       "196 | model.roi_heads.box_head.0                | Conv2dNormActivation     | 590 K \n",
       "197 | model.roi_heads.box_head.0.0              | Conv2d                   | 589 K \n",
       "198 | model.roi_heads.box_head.0.1              | BatchNorm2d              | 512   \n",
       "199 | model.roi_heads.box_head.0.2              | ReLU                     | 0     \n",
       "200 | model.roi_heads.box_head.1                | Conv2dNormActivation     | 590 K \n",
       "201 | model.roi_heads.box_head.1.0              | Conv2d                   | 589 K \n",
       "202 | model.roi_heads.box_head.1.1              | BatchNorm2d              | 512   \n",
       "203 | model.roi_heads.box_head.1.2              | ReLU                     | 0     \n",
       "204 | model.roi_heads.box_head.2                | Conv2dNormActivation     | 590 K \n",
       "205 | model.roi_heads.box_head.2.0              | Conv2d                   | 589 K \n",
       "206 | model.roi_heads.box_head.2.1              | BatchNorm2d              | 512   \n",
       "207 | model.roi_heads.box_head.2.2              | ReLU                     | 0     \n",
       "208 | model.roi_heads.box_head.3                | Conv2dNormActivation     | 590 K \n",
       "209 | model.roi_heads.box_head.3.0              | Conv2d                   | 589 K \n",
       "210 | model.roi_heads.box_head.3.1              | BatchNorm2d              | 512   \n",
       "211 | model.roi_heads.box_head.3.2              | ReLU                     | 0     \n",
       "212 | model.roi_heads.box_head.4                | Flatten                  | 0     \n",
       "213 | model.roi_heads.box_head.5                | Linear                   | 12.8 M\n",
       "214 | model.roi_heads.box_head.6                | ReLU                     | 0     \n",
       "215 | model.roi_heads.box_predictor             | FastRCNNPredictor        | 41.0 K\n",
       "216 | model.roi_heads.box_predictor.cls_score   | Linear                   | 8.2 K \n",
       "217 | model.roi_heads.box_predictor.bbox_pred   | Linear                   | 32.8 K\n",
       "-----------------------------------------------------------------------------------------\n",
       "43.1 M    Trainable params\n",
       "225 K     Non-trainable params\n",
       "43.3 M    Total params\n",
       "173.148   Total estimated model params size (MB)"
      ]
     },
     "execution_count": 7,
     "metadata": {},
     "output_type": "execute_result"
    }
   ],
   "source": [
    "ModelSummary(model, max_depth=-1)  "
   ]
  },
  {
   "cell_type": "markdown",
   "id": "067a434d",
   "metadata": {},
   "source": [
    "## Training Section"
   ]
  },
  {
   "cell_type": "code",
   "execution_count": 8,
   "id": "2a72a770",
   "metadata": {},
   "outputs": [],
   "source": [
    "profiler = SimpleProfiler()\n",
    "early_stop_callback = EarlyStopping(monitor=\"val_loss\", patience=5, verbose=False, mode=\"min\")\n",
    "checkpoint_callback = ModelCheckpoint(monitor=\"val_loss\", mode='min')"
   ]
  },
  {
   "cell_type": "code",
   "execution_count": 9,
   "id": "4fcd1d77",
   "metadata": {},
   "outputs": [],
   "source": [
    "#trainer = Trainer(auto_lr_find=True, limit_train_batches=0.0001, limit_val_batches=0.01, profiler=profiler)\n",
    "#trainer = Trainer(accelerator='gpu',auto_lr_find=True, profiler=profiler, callbacks=[early_stop_callback, checkpoint_callback])"
   ]
  },
  {
   "cell_type": "markdown",
   "id": "2263cecb",
   "metadata": {},
   "source": [
    "### Find best batch size for this machine"
   ]
  },
  {
   "cell_type": "code",
   "execution_count": 10,
   "id": "eb5fddf7",
   "metadata": {},
   "outputs": [],
   "source": [
    "# trainer = Trainer(accelerator='gpu', auto_scale_batch_size=\"binsearch\", max_epochs=100)"
   ]
  },
  {
   "cell_type": "code",
   "execution_count": 11,
   "id": "9e74af8c",
   "metadata": {},
   "outputs": [],
   "source": [
    "# Find the batch size\n",
    "# trainer.tune(model)"
   ]
  },
  {
   "cell_type": "code",
   "execution_count": 12,
   "id": "a92e33fd",
   "metadata": {},
   "outputs": [],
   "source": [
    "# model.batch_size"
   ]
  },
  {
   "cell_type": "markdown",
   "id": "fc405b88",
   "metadata": {},
   "source": [
    "### Find the best learning rate"
   ]
  },
  {
   "cell_type": "code",
   "execution_count": 13,
   "id": "4a0dd640",
   "metadata": {},
   "outputs": [
    {
     "name": "stderr",
     "output_type": "stream",
     "text": [
      "GPU available: True (cuda), used: True\n",
      "TPU available: False, using: 0 TPU cores\n",
      "IPU available: False, using: 0 IPUs\n",
      "HPU available: False, using: 0 HPUs\n"
     ]
    }
   ],
   "source": [
    "trainer = Trainer(accelerator='gpu', max_epochs=50, default_root_dir=\"../checkpoints/detection/FasterRCNN\")"
   ]
  },
  {
   "cell_type": "code",
   "execution_count": 14,
   "id": "eae345a7",
   "metadata": {},
   "outputs": [
    {
     "name": "stderr",
     "output_type": "stream",
     "text": [
      "LOCAL_RANK: 0 - CUDA_VISIBLE_DEVICES: [0]\n"
     ]
    },
    {
     "data": {
      "application/vnd.jupyter.widget-view+json": {
       "model_id": "da27b76a05ff4c53b004f21da9a3014e",
       "version_major": 2,
       "version_minor": 0
      },
      "text/plain": [
       "Finding best initial lr:   0%|          | 0/100 [00:00<?, ?it/s]"
      ]
     },
     "metadata": {},
     "output_type": "display_data"
    },
    {
     "name": "stderr",
     "output_type": "stream",
     "text": [
      "`Trainer.fit` stopped: `max_steps=86` reached.\n",
      "LR finder stopped early after 86 steps due to diverging loss.\n",
      "Restoring states from the checkpoint path at ..\\checkpoints\\detection\\FasterRCNN\\.lr_find_981b1e7d-ca70-4400-b860-548535a525ba.ckpt\n"
     ]
    }
   ],
   "source": [
    "lr_finder = trainer.tuner.lr_find(model)"
   ]
  },
  {
   "cell_type": "code",
   "execution_count": 15,
   "id": "6d2e44aa",
   "metadata": {},
   "outputs": [
    {
     "name": "stderr",
     "output_type": "stream",
     "text": [
      "C:\\Users\\local_adcm114\\Temp\\ipykernel_13908\\1529364680.py:2: UserWarning: Matplotlib is currently using module://matplotlib_inline.backend_inline, which is a non-GUI backend, so cannot show the figure.\n",
      "  fig.show()\n"
     ]
    },
    {
     "data": {
      "image/png": "[encoded data removed]",
      "text/plain": [
       "<Figure size 432x288 with 1 Axes>"
      ]
     },
     "metadata": {
      "needs_background": "light"
     },
     "output_type": "display_data"
    }
   ],
   "source": [
    "fig = lr_finder.plot(suggest=True)\n",
    "fig.show()"
   ]
  },
  {
   "cell_type": "code",
   "execution_count": 17,
   "id": "16fcbf37",
   "metadata": {},
   "outputs": [],
   "source": [
    "new_lr = lr_finder.suggestion()"
   ]
  },
  {
   "cell_type": "code",
   "execution_count": 18,
   "id": "a0d3eada",
   "metadata": {},
   "outputs": [],
   "source": [
    "model.learning_rate = new_lr"
   ]
  },
  {
   "cell_type": "code",
   "execution_count": 19,
   "id": "938fee9d",
   "metadata": {},
   "outputs": [
    {
     "data": {
      "text/plain": [
       "0.0002511886431509582"
      ]
     },
     "execution_count": 19,
     "metadata": {},
     "output_type": "execute_result"
    }
   ],
   "source": [
    "model.learning_rate"
   ]
  },
  {
   "cell_type": "markdown",
   "id": "0599468f",
   "metadata": {},
   "source": [
    "###  Sanity Check"
   ]
  },
  {
   "cell_type": "code",
   "execution_count": 20,
   "id": "eb053e7d",
   "metadata": {},
   "outputs": [
    {
     "name": "stderr",
     "output_type": "stream",
     "text": [
      "GPU available: True (cuda), used: True\n",
      "TPU available: False, using: 0 TPU cores\n",
      "IPU available: False, using: 0 IPUs\n",
      "HPU available: False, using: 0 HPUs\n"
     ]
    }
   ],
   "source": [
    "# use only 10% of training data and 1% of val data\n",
    "trainer = Trainer(accelerator='gpu', limit_train_batches=0.01, limit_val_batches=0.01, max_epochs=1, default_root_dir=\"../checkpoints/detection/FasterRCNN\")"
   ]
  },
  {
   "cell_type": "code",
   "execution_count": null,
   "id": "69985713",
   "metadata": {},
   "outputs": [
    {
     "name": "stderr",
     "output_type": "stream",
     "text": [
      "Missing logger folder: ..\\checkpoints\\detection\\FasterRCNN\\lightning_logs\n",
      "LOCAL_RANK: 0 - CUDA_VISIBLE_DEVICES: [0]\n",
      "\n",
      "  | Name   | Type                 | Params\n",
      "------------------------------------------------\n",
      "0 | metric | MeanAveragePrecision | 0     \n",
      "1 | model  | FasterRCNN           | 43.3 M\n",
      "------------------------------------------------\n",
      "43.1 M    Trainable params\n",
      "225 K     Non-trainable params\n",
      "43.3 M    Total params\n",
      "173.148   Total estimated model params size (MB)\n"
     ]
    }
   ],
   "source": [
    "trainer.fit(model)"
   ]
  }
 ],
 "metadata": {
  "kernelspec": {
   "display_name": "Python [conda env:thesis] *",
   "language": "python",
   "name": "conda-env-thesis-py"
  },
  "language_info": {
   "codemirror_mode": {
    "name": "ipython",
    "version": 3
   },
   "file_extension": ".py",
   "mimetype": "text/x-python",
   "name": "python",
   "nbconvert_exporter": "python",
   "pygments_lexer": "ipython3",
   "version": "3.10.4"
  }
 },
 "nbformat": 4,
 "nbformat_minor": 5
}
