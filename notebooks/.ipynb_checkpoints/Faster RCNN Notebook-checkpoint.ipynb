{
 "cells": [
  {
   "cell_type": "code",
   "execution_count": null,
   "id": "f3477ebb",
   "metadata": {},
   "outputs": [],
   "source": [
    "import os, sys\n",
    "BASE_DIR = os.path.dirname(os.path.dirname(os.path.abspath('__file__')))\n",
    "sys.path.append(BASE_DIR)\n",
    "\n",
    "from src.models.Detection.Faster_RCNN import Faster_RCNN\n",
    "from src.dataset.bdd_detetcion import BDD_Detection\n",
    "from src.config.defaults import cfg\n",
    "from pytorch_lightning import Trainer\n",
    "from pytorch_lightning.profiler import SimpleProfiler\n",
    "from pytorch_lightning.utilities.model_summary import ModelSummary\n",
    "from pytorch_lightning.callbacks.early_stopping import EarlyStopping\n",
    "from pytorch_lightning.loggers import TensorBoardLogger\n",
    "from pytorch_lightning.callbacks import ModelCheckpoint\n",
    "\n",
    "from src.utils.DataLoaders import get_loader"
   ]
  },
  {
   "cell_type": "code",
   "execution_count": null,
   "id": "a3bbfe2c",
   "metadata": {},
   "outputs": [],
   "source": [
    "bdd_train_params = {\n",
    "    'cfg': cfg,\n",
    "    'stage': 'train'\n",
    "}\n",
    "\n",
    "bdd_train = BDD_Detection(**bdd_train_params)"
   ]
  },
  {
   "cell_type": "code",
   "execution_count": null,
   "id": "ca42ef67",
   "metadata": {},
   "outputs": [],
   "source": [
    "bdd_val_params = {\n",
    "    'cfg': cfg,\n",
    "    'stage': 'val'\n",
    "}\n",
    "\n",
    "bdd_val = BDD_Detection(**bdd_val_params)"
   ]
  },
  {
   "cell_type": "code",
   "execution_count": null,
   "id": "8bb4b5be",
   "metadata": {},
   "outputs": [],
   "source": [
    "train_dataloader_args = {\n",
    "    'dataset': bdd_train,\n",
    "    'batch_size': 32,\n",
    "    'shuffle': True,\n",
    "}\n",
    "train_dataloader = get_loader(**train_dataloader_args)\n",
    "\n",
    "val_dataloader_args = {\n",
    "    'dataset': bdd_val,\n",
    "    'batch_size': 32,\n",
    "    'shuffle': False,\n",
    "}\n",
    "val_dataloader = get_loader(**val_dataloader_args)"
   ]
  },
  {
   "cell_type": "code",
   "execution_count": null,
   "id": "0c48e296",
   "metadata": {},
   "outputs": [],
   "source": [
    "faster_rcnn_params = {\n",
    "    'cfg': cfg,\n",
    "    'num_classes': 7,\n",
    "    'backbone': 'resnet101',\n",
    "    'learning_rate': 1e-5,\n",
    "    'weight_decay': 1e-3,\n",
    "    'pretrained': True,\n",
    "    'pretrained_backbone': True,\n",
    "    'checkpoint_path': None,\n",
    "    'train_loader': train_dataloader,\n",
    "    'val_loader': val_dataloader\n",
    "}\n",
    "model = Faster_RCNN(**faster_rcnn_params)"
   ]
  },
  {
   "cell_type": "code",
   "execution_count": null,
   "id": "acf4aa66",
   "metadata": {},
   "outputs": [],
   "source": [
    "ModelSummary(model, max_depth=-1)  "
   ]
  },
  {
   "cell_type": "code",
   "execution_count": null,
   "id": "2a72a770",
   "metadata": {},
   "outputs": [],
   "source": [
    "profiler = SimpleProfiler()\n",
    "early_stop_callback = EarlyStopping(monitor=\"val_loss\", patience=5, verbose=False, mode=\"min\")\n",
    "checkpoint_callback = ModelCheckpoint(monitor=\"val_loss\", mode='min')"
   ]
  },
  {
   "cell_type": "code",
   "execution_count": null,
   "id": "4fcd1d77",
   "metadata": {},
   "outputs": [],
   "source": [
    "#trainer = Trainer(auto_lr_find=True, limit_train_batches=0.0001, limit_val_batches=0.01, profiler=profiler)"
   ]
  },
  {
   "cell_type": "code",
   "execution_count": null,
   "id": "5091acb8",
   "metadata": {},
   "outputs": [],
   "source": [
    "trainer = Trainer(auto_lr_find=True, profiler=profiler, callbacks=[early_stop_callback, checkpoint_callback])"
   ]
  },
  {
   "cell_type": "code",
   "execution_count": null,
   "id": "f5d1a623",
   "metadata": {},
   "outputs": [],
   "source": [
    "trainer.tune(model)"
   ]
  },
  {
   "cell_type": "code",
   "execution_count": null,
   "id": "938fee9d",
   "metadata": {},
   "outputs": [],
   "source": []
  },
  {
   "cell_type": "code",
   "execution_count": null,
   "id": "238f1cd5",
   "metadata": {},
   "outputs": [],
   "source": [
    "trainer.fit(model)"
   ]
  }
 ],
 "metadata": {
  "kernelspec": {
   "display_name": "Python [conda env:yoloc] *",
   "language": "python",
   "name": "conda-env-yoloc-py"
  },
  "language_info": {
   "codemirror_mode": {
    "name": "ipython",
    "version": 3
   },
   "file_extension": ".py",
   "mimetype": "text/x-python",
   "name": "python",
   "nbconvert_exporter": "python",
   "pygments_lexer": "ipython3",
   "version": "3.10.4"
  }
 },
 "nbformat": 4,
 "nbformat_minor": 5
}
