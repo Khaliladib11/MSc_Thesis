{
 "cells": [
  {
   "cell_type": "code",
   "execution_count": 39,
   "id": "adff0ba5",
   "metadata": {},
   "outputs": [],
   "source": [
    "import os, sys\n",
    "BASE_DIR = os.path.dirname(os.path.dirname(os.path.abspath('__file__')))\n",
    "sys.path.append(BASE_DIR)\n",
    "\n",
    "from src.models.Segmentation.FCN import FCN\n",
    "from src.dataset.bdd_drivable_segmentation import BDDDrivableSegmentation\n",
    "from src.config.defaults import cfg\n",
    "from pytorch_lightning import Trainer\n",
    "from pytorch_lightning.profiler import SimpleProfiler\n",
    "from pytorch_lightning.utilities.model_summary import ModelSummary\n",
    "from pytorch_lightning.callbacks.early_stopping import EarlyStopping\n",
    "from pytorch_lightning.loggers import TensorBoardLogger\n",
    "from pytorch_lightning.callbacks import ModelCheckpoint\n",
    "\n",
    "from src.utils.DataLoaders import get_loader\n",
    "\n",
    "import torch\n",
    "import os"
   ]
  },
  {
   "cell_type": "code",
   "execution_count": 54,
   "id": "6a09a512",
   "metadata": {},
   "outputs": [],
   "source": [
    "from torchvision.models import ResNet50_Weights, ResNet101_Weights\n",
    "from torchvision.models.segmentation import fcn_resnet50, fcn_resnet101"
   ]
  },
  {
   "cell_type": "code",
   "execution_count": 51,
   "id": "9b39c9d2",
   "metadata": {},
   "outputs": [],
   "source": [
    "fcn_model = fcn_resnet50(weights=None, weights_backbone=ResNet50_Weights.DEFAULT)"
   ]
  },
  {
   "cell_type": "code",
   "execution_count": 55,
   "id": "27b3d5fc",
   "metadata": {},
   "outputs": [
    {
     "name": "stderr",
     "output_type": "stream",
     "text": [
      "Downloading: \"https://download.pytorch.org/models/resnet101-cd907fc2.pth\" to C:\\Users\\Khaliladib/.cache\\torch\\hub\\checkpoints\\resnet101-cd907fc2.pth\n"
     ]
    },
    {
     "data": {
      "application/vnd.jupyter.widget-view+json": {
       "model_id": "119048a726294a52b6f9d0f52561f5f1",
       "version_major": 2,
       "version_minor": 0
      },
      "text/plain": [
       "  0%|          | 0.00/171M [00:00<?, ?B/s]"
      ]
     },
     "metadata": {},
     "output_type": "display_data"
    }
   ],
   "source": [
    "fcn_model_2 = fcn_resnet101(weights=None, weights_backbone=ResNet101_Weights.DEFAULT)"
   ]
  },
  {
   "cell_type": "code",
   "execution_count": 56,
   "id": "ed3b9bf8",
   "metadata": {},
   "outputs": [],
   "source": [
    "torch.save(fcn_model_2.state_dict(), '../weights/ResNet101_Weights.pth')"
   ]
  },
  {
   "cell_type": "code",
   "execution_count": 53,
   "id": "4cee24cb",
   "metadata": {},
   "outputs": [],
   "source": [
    "torch.save(fcn_model.state_dict(), '../weights/ResNet50_Weights.pth')"
   ]
  }
 ],
 "metadata": {
  "kernelspec": {
   "display_name": "Python [conda env:yoloc] *",
   "language": "python",
   "name": "conda-env-yoloc-py"
  },
  "language_info": {
   "codemirror_mode": {
    "name": "ipython",
    "version": 3
   },
   "file_extension": ".py",
   "mimetype": "text/x-python",
   "name": "python",
   "nbconvert_exporter": "python",
   "pygments_lexer": "ipython3",
   "version": "3.10.4"
  }
 },
 "nbformat": 4,
 "nbformat_minor": 5
}
