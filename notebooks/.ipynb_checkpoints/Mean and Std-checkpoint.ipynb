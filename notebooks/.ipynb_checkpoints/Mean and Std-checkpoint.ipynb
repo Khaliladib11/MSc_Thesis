{
 "cells": [
  {
   "cell_type": "code",
   "execution_count": 27,
   "id": "c717af1f",
   "metadata": {},
   "outputs": [],
   "source": [
    "import os\n",
    "import json\n",
    "import random\n",
    "import matplotlib.pyplot as plt\n",
    "import torch\n",
    "from torch.utils.data import DataLoader\n",
    "from torch.utils import data\n",
    "from PIL import Image\n",
    "from torchvision import transforms\n",
    "from tqdm import tqdm"
   ]
  },
  {
   "cell_type": "code",
   "execution_count": 21,
   "id": "edacd7fe",
   "metadata": {},
   "outputs": [],
   "source": [
    "class BDD(data.Dataset):\n",
    "    def __init__(self):\n",
    "        self.images_path = './dataset/bdd100k/images/100K/images/100k/train'\n",
    "        self.images = os.listdir(self.images_path)\n",
    "        self.convert_tensor = transforms.ToTensor()\n",
    "        \n",
    "    def __len__(self):\n",
    "        return len(self.images)\n",
    "    \n",
    "    def __getitem__(self, idx):\n",
    "        image = Image.open(os.path.join(self.images_path, self.images[idx]))\n",
    "        image = self.convert_tensor(image)\n",
    "        return image"
   ]
  },
  {
   "cell_type": "code",
   "execution_count": 22,
   "id": "9adebd97",
   "metadata": {},
   "outputs": [],
   "source": [
    "bdd = BDD()"
   ]
  },
  {
   "cell_type": "code",
   "execution_count": 24,
   "id": "92305b16",
   "metadata": {},
   "outputs": [],
   "source": [
    "loader = DataLoader(bdd, batch_size=64)"
   ]
  },
  {
   "cell_type": "code",
   "execution_count": 28,
   "id": "2202dc82",
   "metadata": {},
   "outputs": [],
   "source": [
    "def get_mean_std(loader):\n",
    "    channels_sum, channels_squared_sum, num_batches = 0, 0, 0\n",
    "    \n",
    "    for data in tqdm(loader):\n",
    "        channels_sum += torch.mean(data, dim=[0, 2, 3])\n",
    "        channels_squared_sum += torch.mean(data**2, dim=[0, 2, 3])\n",
    "        num_batches += 1\n",
    "    \n",
    "    mean = channels_sum / num_batches\n",
    "    std = (channels_squared_sum / num_batches - mean**2)**0.5\n",
    "    \n",
    "    return mean, std"
   ]
  },
  {
   "cell_type": "code",
   "execution_count": 29,
   "id": "c75346fe",
   "metadata": {},
   "outputs": [
    {
     "name": "stderr",
     "output_type": "stream",
     "text": [
      "100%|████████████████████████████████████████████████████████████████████████████| 1094/1094 [1:02:38<00:00,  3.44s/it]\n"
     ]
    },
    {
     "name": "stdout",
     "output_type": "stream",
     "text": [
      "tensor([0.2787, 0.2926, 0.2899])\n",
      "tensor([0.2474, 0.2653, 0.2760])\n",
      "CPU times: total: 3h 59min 30s\n",
      "Wall time: 1h 2min 39s\n"
     ]
    }
   ],
   "source": [
    "%%time\n",
    "mean, std = get_mean_std(loader)\n",
    "print(mean)\n",
    "print(std)"
   ]
  }
 ],
 "metadata": {
  "kernelspec": {
   "display_name": "Python [conda env:yoloc] *",
   "language": "python",
   "name": "conda-env-yoloc-py"
  },
  "language_info": {
   "codemirror_mode": {
    "name": "ipython",
    "version": 3
   },
   "file_extension": ".py",
   "mimetype": "text/x-python",
   "name": "python",
   "nbconvert_exporter": "python",
   "pygments_lexer": "ipython3",
   "version": "3.10.4"
  }
 },
 "nbformat": 4,
 "nbformat_minor": 5
}
